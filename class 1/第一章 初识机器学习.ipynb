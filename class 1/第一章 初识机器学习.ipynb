{
 "cells": [
  {
   "cell_type": "markdown",
   "metadata": {},
   "source": [
    "# 第一节 初识机器学习"
   ]
  },
  {
   "cell_type": "markdown",
   "metadata": {},
   "source": [
    "## 1.1 课程大纲\n",
    "![](./material/机器学习课程大纲.png)"
   ]
  },
  {
   "cell_type": "markdown",
   "metadata": {},
   "source": [
    "## 1.2机器学习基本概念"
   ]
  },
  {
   "cell_type": "markdown",
   "metadata": {},
   "source": [
    "### 1.2.1人工智能，机器学习，深度学习\n",
    "#### 关系图\n",
    "![](./material/人工智能-机器学习-深度学习关系图.png)\n",
    "#### 人工智能\n",
    "人工智能（Artificial Intelligence）：为机器赋予人的能力\n",
    "* 强人工智能：复杂的、拥有与人类智慧同样本质特性的机器；像星球大战中的C-3PO；邪恶的，如终结者；我们目前还无法实现。\n",
    "* 弱人工智能：能够与人一样，甚至比人更好地执行特定任务的技术；如图像分类，人脸识别，AlphaGo。\n",
    "\n",
    "#### 机器学习\n",
    "机器学习（Machine Learning）：一种实现人工智能的方法\n",
    "* 机器学习即机器自己来学习，最基本的做法，是使用算法来解析数据、从中学习，然后对真实世界中的事件做出决策和预测。与传统的为解决特定任务、硬编码的软件程序不同，机器学习是用大量的数据来“训练”，通过各种算法从数据中学习如何完成任务，如商品推荐，销量预测等。\n",
    "* 传统的机器学习算法在指纹识别、人脸检测、物体检测等领域的应用基本达到了商业化的要求或者特定场景的商业化水平，但每前进一步都异常艰难，直到深度学习算法的出现。\n",
    "\n",
    "#### 深度学习\n",
    "深度学习（Deep Learning）：一种是实现机器学习的技术\n",
    "* 深度学习本来并不是一种独立的学习方法，只是模拟人脑神经元产生的，早期机器学习的算法的一种；由于近几年该领域发展迅猛，一些特有的学习手段相继被提出（如残差网络），在语言、图像领域等众多领域达到了普通机器学习算法难以达到的高度，因此越来越多的人将其单独看作一种学习的方法。\n",
    "* 深度学习摧枯拉朽般地实现了各种任务，使得似乎所有的机器辅助功能都变为可能。无人驾驶汽车，预防性医疗保健，甚至是更好的电影推荐，都近在眼前，或者即将实现。"
   ]
  },
  {
   "cell_type": "markdown",
   "metadata": {},
   "source": [
    "### 1.2.2 机器学习解决哪些问题\n",
    "* 分类问题；狗猫图片识别、垃圾邮件过滤、文本情感分析\n",
    "* 回归问题：销量预测、点击率预测、流量预测\n",
    "* 聚类问题：用户分级、基于用户位置信息的商业选址\n",
    "* 推荐&关联：音乐推荐、啤酒尿布\n",
    "![](./material/机器学习应用.jpg)"
   ]
  },
  {
   "cell_type": "markdown",
   "metadata": {},
   "source": [
    "## 1.3 最简单的机器学习模型：线性回归"
   ]
  },
  {
   "cell_type": "markdown",
   "metadata": {},
   "source": [
    "这里我们通过一个线性回归模型的例子，来感知下机器学习的模型是一个什么东西，又是如何被训练出来的。\n",
    "\n",
    "大自然有这样的规则，相比凉爽的天气，蟋蟀在较为炎热的天气里鸣叫更为频繁。\n",
    "现在我们就用该数据集训练一个模型，来学习温度与鸣叫次数之间的关系。\n",
    "\n",
    "最终目的是：我告诉你蟋蟀每分钟叫了多少次，你要告诉我现在大概是多少摄氏度。\n",
    "### 每分钟虫鸣与温度关系图\n",
    "<img src=\"./material/温度与虫鸣1.png\" width=\"500px\" height=\"500px\">"
   ]
  },
  {
   "cell_type": "markdown",
   "metadata": {},
   "source": [
    "此曲线图表明温度随着鸣叫声次数的增加而上升。鸣叫声与温度之间的关系是线性关系，因此我们可以绘制一条直线来近似地表示这种关系\n",
    "<img src=\"./material/温度与虫鸣2.png\" width=\"500px\" height=\"500px\">\n",
    "\n",
    "画出这条直线之后，只要你给我每分钟虫鸣声的次数，我就能读出来大致的温度是多少。那么其实，这条线我们就可以理解为是一个温度预测模型，输入数据x为每分钟虫鸣声，输出y就是通过这条直线读出的温度，就是模型的预测值。\n",
    "同样，在数学上，我们可以用一个公式来代表这条直线：\n",
    "$$y = wx+b$$\n",
    "那我们现在的任务就是找到这条直线的$w$和$b$，那机器又是如何找到的呢？"
   ]
  },
  {
   "cell_type": "markdown",
   "metadata": {},
   "source": [
    "在此之前我们先假设有以下两种情况：\n",
    "<img src=\"./material/损失.png\" width=\"500px\" height=\"500px\">\n",
    "\n",
    "这两条直线，明显左边的偏差更多，更加不准确；而右边的就要准确很多了，更能表示温度与虫鸣之间的关系；而这种准确不准确的程度，我们使用一个词来表示就是**损失**。那我们现在的目的，就是找到一组($w$, $b$)，使这个损失最小就是最优模型。\n",
    "同样，我们用一个数学公式来表示损失的大小就是：$$MSE = \\frac{1}{N} \\sum_{(x,y)\\in D} (y - prediction(x))^2$$\n",
    "这个$MSE$被称作均方误差，指的是每个样本的平均平方损失。\n",
    "那现在对我们来说，就是就是找到一组($w$, $b$)，保证$MSE$尽可能的小，就是我们最想要的最优模型了。"
   ]
  },
  {
   "cell_type": "markdown",
   "metadata": {},
   "source": [
    "那接下来的事情就很好理解了，机器最擅长的就是计算了，它会不停尝试不同的($w$, $b$)组合，每尝试一次，计算一次$MSE$，直到找到最小的损失，此时的($w$, $b$)参数组合，就是我们训练好的模型了，而机器不停尝试寻找最优的这个过程就被称作**训练**。\n",
    "<img src=\"./material/训练试错.svg\" width=\"700px\" height=\"700px\">\n",
    "\n",
    "当然机器肯定不是胡乱尝试的，我们会有很多算法去尽可能减少尝试的次数，降低计算的复杂度，最常用的就是*梯度下降算法*，这个之后再说。"
   ]
  },
  {
   "cell_type": "markdown",
   "metadata": {},
   "source": [
    "## 1.4 鸢尾花分类\n",
    "### 1.4.1 建模流程介绍\n",
    "### 业务理解 -> 获取数据 -> 数据清洗 -> 特征工程 -> 建立模型 -> 交叉验证 -> 上线部署\n",
    "![](./material/机器学习流程图.jpg)"
   ]
  },
  {
   "cell_type": "markdown",
   "metadata": {},
   "source": [
    "### 1.4.2 鸢尾花分类\n",
    "### 鸢尾花数据集\n",
    "Iris也称鸢尾花卉数据集，是一类多重变量分析的数据集。通过花萼长度，花萼宽度，花瓣长度，花瓣宽度4个属性预测鸢尾花卉属于（Setosa，Versicolour，Virginica）三个种类中的哪一类。而在python的sklearn库中有内置这个数据集，我们就先拿这个数据集来做为机器学习的第一站。\n",
    "![](./material/鸢尾花.png)"
   ]
  },
  {
   "cell_type": "code",
   "execution_count": 1,
   "metadata": {},
   "outputs": [],
   "source": [
    "# 载入所需模块\n",
    "import numpy as np\n",
    "import pandas as pd\n",
    "from sklearn.datasets import load_iris  # 鸢尾花数据集\n",
    "from sklearn.linear_model import LogisticRegression  # 逻辑回归分类模型\n",
    "from sklearn.model_selection import train_test_split  # 用于训练集和测试集分割的方法\n",
    "import warnings\n",
    "warnings.filterwarnings('ignore')"
   ]
  },
  {
   "cell_type": "code",
   "execution_count": 2,
   "metadata": {},
   "outputs": [],
   "source": [
    "iris = load_iris()  # 载入鸢尾花数据集\n",
    "# print(iris)"
   ]
  },
  {
   "cell_type": "code",
   "execution_count": 4,
   "metadata": {},
   "outputs": [
    {
     "data": {
      "text/html": [
       "<div>\n",
       "<style scoped>\n",
       "    .dataframe tbody tr th:only-of-type {\n",
       "        vertical-align: middle;\n",
       "    }\n",
       "\n",
       "    .dataframe tbody tr th {\n",
       "        vertical-align: top;\n",
       "    }\n",
       "\n",
       "    .dataframe thead th {\n",
       "        text-align: right;\n",
       "    }\n",
       "</style>\n",
       "<table border=\"1\" class=\"dataframe\">\n",
       "  <thead>\n",
       "    <tr style=\"text-align: right;\">\n",
       "      <th></th>\n",
       "      <th>sepal length (cm)</th>\n",
       "      <th>sepal width (cm)</th>\n",
       "      <th>petal length (cm)</th>\n",
       "      <th>petal width (cm)</th>\n",
       "      <th>target</th>\n",
       "    </tr>\n",
       "  </thead>\n",
       "  <tbody>\n",
       "    <tr>\n",
       "      <th>0</th>\n",
       "      <td>5.1</td>\n",
       "      <td>3.5</td>\n",
       "      <td>1.4</td>\n",
       "      <td>0.2</td>\n",
       "      <td>0</td>\n",
       "    </tr>\n",
       "    <tr>\n",
       "      <th>1</th>\n",
       "      <td>4.9</td>\n",
       "      <td>3.0</td>\n",
       "      <td>1.4</td>\n",
       "      <td>0.2</td>\n",
       "      <td>0</td>\n",
       "    </tr>\n",
       "    <tr>\n",
       "      <th>2</th>\n",
       "      <td>4.7</td>\n",
       "      <td>3.2</td>\n",
       "      <td>1.3</td>\n",
       "      <td>0.2</td>\n",
       "      <td>0</td>\n",
       "    </tr>\n",
       "    <tr>\n",
       "      <th>3</th>\n",
       "      <td>4.6</td>\n",
       "      <td>3.1</td>\n",
       "      <td>1.5</td>\n",
       "      <td>0.2</td>\n",
       "      <td>0</td>\n",
       "    </tr>\n",
       "    <tr>\n",
       "      <th>4</th>\n",
       "      <td>5.0</td>\n",
       "      <td>3.6</td>\n",
       "      <td>1.4</td>\n",
       "      <td>0.2</td>\n",
       "      <td>0</td>\n",
       "    </tr>\n",
       "  </tbody>\n",
       "</table>\n",
       "</div>"
      ],
      "text/plain": [
       "   sepal length (cm)  sepal width (cm)  petal length (cm)  petal width (cm)  \\\n",
       "0                5.1               3.5                1.4               0.2   \n",
       "1                4.9               3.0                1.4               0.2   \n",
       "2                4.7               3.2                1.3               0.2   \n",
       "3                4.6               3.1                1.5               0.2   \n",
       "4                5.0               3.6                1.4               0.2   \n",
       "\n",
       "   target  \n",
       "0       0  \n",
       "1       0  \n",
       "2       0  \n",
       "3       0  \n",
       "4       0  "
      ]
     },
     "execution_count": 4,
     "metadata": {},
     "output_type": "execute_result"
    }
   ],
   "source": [
    "target_names = {0: 'setosa', 1: 'versicolor', 2: 'virginica'}  # 列个字典做备注，target的各个值代表不同的鸢尾花种类\n",
    "X = iris['data']\n",
    "y = iris['target']\n",
    "iris_df = pd.DataFrame(X, columns=iris['feature_names'])  # 为了更方便理解，将array数组数据合并成DataFrame\n",
    "iris_df['target'] = y  # 也把目标标签加进去\n",
    "iris_df.head()"
   ]
  },
  {
   "cell_type": "code",
   "execution_count": 4,
   "metadata": {},
   "outputs": [
    {
     "name": "stdout",
     "output_type": "stream",
     "text": [
      "训练数据特征：\n",
      "      sepal length (cm)  sepal width (cm)  petal length (cm)  petal width (cm)\n",
      "60                 5.0               2.0                3.5               1.0\n",
      "116                6.5               3.0                5.5               1.8\n",
      "144                6.7               3.3                5.7               2.5\n",
      "119                6.0               2.2                5.0               1.5\n",
      "108                6.7               2.5                5.8               1.8 \n",
      "\n",
      "训练数据标签：\n",
      " 60     1\n",
      "116    2\n",
      "144    2\n",
      "119    2\n",
      "108    2\n",
      "Name: target, dtype: int32\n"
     ]
    }
   ],
   "source": [
    "# 直接将数据按7：3分为训练集和测试集\n",
    "X_train, X_test, y_train, y_test = train_test_split(iris_df.iloc[:, :-1], iris_df['target'], test_size=0.3, random_state=0)\n",
    "print('训练数据特征：\\n', X_train.head(), '\\n')\n",
    "print('训练数据标签：\\n', y_train.head())"
   ]
  },
  {
   "cell_type": "code",
   "execution_count": 5,
   "metadata": {},
   "outputs": [
    {
     "name": "stdout",
     "output_type": "stream",
     "text": [
      "开始训练\n",
      "模型训练完成\n"
     ]
    }
   ],
   "source": [
    "# 训练模型\n",
    "model = LogisticRegression()  # 调用逻辑回归模型，直接使用默认参数\n",
    "print('开始训练')\n",
    "model.fit(X_train, y_train)  # 用训练数据对模型进行训练\n",
    "print('模型训练完成')"
   ]
  },
  {
   "cell_type": "code",
   "execution_count": 6,
   "metadata": {},
   "outputs": [],
   "source": [
    "# 预测结果\n",
    "pre = model.predict(X_test)  # 使用训练好的模型对训练集的数据进行预测\n",
    "result = pd.DataFrame({'real': y_test, 'prediction': pre})  # 将实际结果与预测结果放在同一个表中来对比观察\n",
    "result['equal'] = result['real'] == result['prediction']  # 预测值与实际结果相同？\n",
    "# result"
   ]
  },
  {
   "cell_type": "code",
   "execution_count": 7,
   "metadata": {},
   "outputs": [
    {
     "name": "stdout",
     "output_type": "stream",
     "text": [
      "准确率： 0.8888888888888888\n"
     ]
    }
   ],
   "source": [
    "num_test = len(result)\n",
    "num_true = sum(result['equal'])\n",
    "print('准确率：', num_true/num_test)"
   ]
  },
  {
   "cell_type": "markdown",
   "metadata": {},
   "source": [
    "## 1.5 术语"
   ]
  },
  {
   "cell_type": "markdown",
   "metadata": {},
   "source": [
    "### 1.5.1 基本术语\n",
    "#### 标签\n",
    "标签是我们要预测的事物，即简单线性回归中的 y 变量，鸢尾花分类中即是我们要预测的三种花的种类。\n",
    "\n",
    "#### 特征\n",
    "特征是输入变量，即简单线性回归中的 x 变量，鸢尾花分类中即是花萼长度，花萼宽度，花瓣长度，花瓣宽度4个属性。简单的机器学习项目可能会使用单个特征，而比较复杂的机器学习项目可能会使用数百万个特征。\n",
    "在垃圾邮件检测器示例中，特征可能包括\n",
    "* 电子邮件文本中的字词\n",
    "* 发件人的地址\n",
    "* 发送电子邮件的时段\n",
    "* 电子邮件中包含“一种奇怪的把戏”这样的短语\n",
    "\n",
    "#### 样本\n",
    "样本是指数据的特定实例，可以理解为训练数据中的一条记录，鸢尾花中一行记录就是一个样本。我们将样本分为以下两类：\n",
    "* 有标签样本\n",
    "* 无标签样本\n",
    "\n",
    "有标签样本同时包含特征和标签;无标签样本包含特征，但不包含标签。\n",
    "\n",
    "#### 模型\n",
    "模型定义了特征与标签之间的关系。例如，鸢尾花分类中将花萼长度，花萼宽度，花瓣长度，花瓣宽度4个属性与“鸢尾花种类”联系起来，垃圾邮件检测模型可能会将某些特征与“垃圾邮件”紧密联系起来。\n",
    "模型的生命周期有两个阶段：\n",
    "* **训练**是指创建或学习模型。也就是说，向模型展示有标签样本，让模型逐渐学习特征与标签之间的关系。\n",
    "* **预测**是指将训练后的模型应用于无标签样本。也就是说，使用经过训练的模型做出有用的预测 (y')。\n",
    "\n",
    "#### 分类与回归\n",
    "回归模型可预测连续值。例如，回归模型做出的预测可回答如下问题：\n",
    "* 加利福尼亚州一栋房产的价值是多少？\n",
    "* 用户点击此广告的概率是多少？\n",
    "\n",
    "分类模型可预测离散值。例如，分类模型做出的预测可回答如下问题：\n",
    "* 某个指定电子邮件是垃圾邮件还是非垃圾邮件？\n",
    "* 这是一张狗、猫还是仓鼠图片？\n",
    "\n",
    "#### 监督学习与非监督学习\n",
    "* 监督式学习：有输入数据，有标签；如回归、分类算法。\n",
    "* 非监督式学习：只有输入数据，无标签；如聚类、关联规则算法。\n",
    "* 半监督式学习：有输入数据，但部分数据是有标签的，部分没有标签，是一种监督式和非监督式学习的手段都可以使用的学习方法。"
   ]
  },
  {
   "cell_type": "markdown",
   "metadata": {},
   "source": [
    "## 1.6 工具介绍\n",
    "### 1.6.1语言\n",
    "#### python\n",
    "Python 是一个高层次的结合了解释性、编译性、互动性和面向对象的脚本语言。也是目前最适合用作机器学习的语言。\n",
    "\n",
    "python官网：https://www.python.org/\n",
    "\n",
    "廖雪峰的python教程：https://www.liaoxuefeng.com/wiki/0014316089557264a6b348958f449949df42a6d3a2e542c000\n",
    "\n",
    "### IDE\n",
    "#### Jupyter\n",
    "\n",
    "#### Pycharm\n",
    "![](./material/pycharm界面.png)"
   ]
  },
  {
   "cell_type": "markdown",
   "metadata": {},
   "source": [
    "### 1.6.2第三方库\n",
    "#### numpy\n",
    "numpy是支持 Python语言的数值计算扩充库，其拥有强大的高维度数组处理与矩阵运算能力。除此之外，numpy还内建了大量的函数，方便你快速构建数学模型。\n",
    "\n",
    "#### 安装numpy\n",
    "pip install numpy"
   ]
  },
  {
   "cell_type": "code",
   "execution_count": 8,
   "metadata": {},
   "outputs": [
    {
     "name": "stdout",
     "output_type": "stream",
     "text": [
      "avg: 2.5\n",
      "std: 1.118033988749895\n"
     ]
    }
   ],
   "source": [
    "import numpy as np  # 导入模块\n",
    "\n",
    "test = [1, 2, 3, 4]  # 创建一个列表\n",
    "avg = np.mean(test)  # 计算平均值\n",
    "std = np.std(test)  # 计算方差\n",
    "print('avg:', avg)  # 打印结果\n",
    "print('std:', std)"
   ]
  },
  {
   "cell_type": "code",
   "execution_count": 9,
   "metadata": {},
   "outputs": [
    {
     "name": "stdout",
     "output_type": "stream",
     "text": [
      "arr1:\n",
      " [[1 2 3]\n",
      " [2 3 4]\n",
      " [4 5 6]] \n",
      "\n",
      "shape of arr2: (3, 3)\n"
     ]
    }
   ],
   "source": [
    "arr1 = np.array([[1, 2, 3],\n",
    "               [2, 3, 4],\n",
    "               [4, 5, 6]])  # 创建一个array数组\n",
    "arr2 = np.array([[1, 1, 1],\n",
    "               [2, 2, 3],\n",
    "               [3, 3, 3]])\n",
    "print('arr1:\\n', arr1, '\\n')\n",
    "print('shape of arr2:', arr2.shape)"
   ]
  },
  {
   "cell_type": "code",
   "execution_count": 10,
   "metadata": {},
   "outputs": [
    {
     "name": "stdout",
     "output_type": "stream",
     "text": [
      "add:\n",
      " [[2 3 4]\n",
      " [4 5 7]\n",
      " [7 8 9]] \n",
      "\n",
      "reduce:\n",
      " [[0 1 2]\n",
      " [0 1 1]\n",
      " [1 2 3]] \n",
      "\n",
      "divide:\n",
      " [[1.         2.         3.        ]\n",
      " [1.         1.5        1.33333333]\n",
      " [1.33333333 1.66666667 2.        ]] \n",
      "\n"
     ]
    }
   ],
   "source": [
    "arr_add = arr1 + arr2  # 两个数据相加\n",
    "arr_reduce = arr1 - arr2  # 两个数组相减\n",
    "arr_divide = arr1 / arr2  # 两个数组相乘\n",
    "print('add:\\n', arr_add, '\\n')\n",
    "print('reduce:\\n', arr_reduce, '\\n')\n",
    "print('divide:\\n', arr_divide, '\\n')"
   ]
  },
  {
   "cell_type": "markdown",
   "metadata": {},
   "source": [
    "#### pandas\n",
    "pandas 是基于NumPy 的一种工具，该工具是为了解决数据分析任务而创建的。Pandas 纳入了大量库和一些标准的数据模型，提供了高效地操作大型数据集所需的工具。pandas提供了大量能使我们快速便捷地处理数据的函数和方法。\n",
    "\n",
    "#### pandas安装\n",
    "pip install pandas"
   ]
  },
  {
   "cell_type": "code",
   "execution_count": 11,
   "metadata": {},
   "outputs": [
    {
     "name": "stdout",
     "output_type": "stream",
     "text": [
      "shape: (4, 3)\n"
     ]
    },
    {
     "data": {
      "text/html": [
       "<div>\n",
       "<style scoped>\n",
       "    .dataframe tbody tr th:only-of-type {\n",
       "        vertical-align: middle;\n",
       "    }\n",
       "\n",
       "    .dataframe tbody tr th {\n",
       "        vertical-align: top;\n",
       "    }\n",
       "\n",
       "    .dataframe thead th {\n",
       "        text-align: right;\n",
       "    }\n",
       "</style>\n",
       "<table border=\"1\" class=\"dataframe\">\n",
       "  <thead>\n",
       "    <tr style=\"text-align: right;\">\n",
       "      <th></th>\n",
       "      <th>a</th>\n",
       "      <th>b</th>\n",
       "      <th>c</th>\n",
       "    </tr>\n",
       "  </thead>\n",
       "  <tbody>\n",
       "    <tr>\n",
       "      <th>0</th>\n",
       "      <td>1</td>\n",
       "      <td>5</td>\n",
       "      <td>9.0</td>\n",
       "    </tr>\n",
       "    <tr>\n",
       "      <th>1</th>\n",
       "      <td>2</td>\n",
       "      <td>6</td>\n",
       "      <td>10.0</td>\n",
       "    </tr>\n",
       "    <tr>\n",
       "      <th>2</th>\n",
       "      <td>3</td>\n",
       "      <td>7</td>\n",
       "      <td>11.0</td>\n",
       "    </tr>\n",
       "    <tr>\n",
       "      <th>3</th>\n",
       "      <td>4</td>\n",
       "      <td>8</td>\n",
       "      <td>NaN</td>\n",
       "    </tr>\n",
       "  </tbody>\n",
       "</table>\n",
       "</div>"
      ],
      "text/plain": [
       "   a  b     c\n",
       "0  1  5   9.0\n",
       "1  2  6  10.0\n",
       "2  3  7  11.0\n",
       "3  4  8   NaN"
      ]
     },
     "execution_count": 11,
     "metadata": {},
     "output_type": "execute_result"
    }
   ],
   "source": [
    "import pandas as pd\n",
    "df = pd.DataFrame({'a': [1, 2, 3, 4], 'b': [5, 6, 7, 8], 'c': [9, 10, 11, np.nan]})  # 创建一个DataFrame\n",
    "print('shape:', df.shape)\n",
    "df"
   ]
  },
  {
   "cell_type": "code",
   "execution_count": 12,
   "metadata": {},
   "outputs": [
    {
     "data": {
      "text/html": [
       "<div>\n",
       "<style scoped>\n",
       "    .dataframe tbody tr th:only-of-type {\n",
       "        vertical-align: middle;\n",
       "    }\n",
       "\n",
       "    .dataframe tbody tr th {\n",
       "        vertical-align: top;\n",
       "    }\n",
       "\n",
       "    .dataframe thead th {\n",
       "        text-align: right;\n",
       "    }\n",
       "</style>\n",
       "<table border=\"1\" class=\"dataframe\">\n",
       "  <thead>\n",
       "    <tr style=\"text-align: right;\">\n",
       "      <th></th>\n",
       "      <th>a</th>\n",
       "      <th>b</th>\n",
       "      <th>c</th>\n",
       "      <th>d</th>\n",
       "    </tr>\n",
       "  </thead>\n",
       "  <tbody>\n",
       "    <tr>\n",
       "      <th>0</th>\n",
       "      <td>1</td>\n",
       "      <td>5</td>\n",
       "      <td>9.0</td>\n",
       "      <td>6</td>\n",
       "    </tr>\n",
       "    <tr>\n",
       "      <th>1</th>\n",
       "      <td>2</td>\n",
       "      <td>6</td>\n",
       "      <td>10.0</td>\n",
       "      <td>8</td>\n",
       "    </tr>\n",
       "    <tr>\n",
       "      <th>2</th>\n",
       "      <td>3</td>\n",
       "      <td>7</td>\n",
       "      <td>11.0</td>\n",
       "      <td>10</td>\n",
       "    </tr>\n",
       "    <tr>\n",
       "      <th>3</th>\n",
       "      <td>4</td>\n",
       "      <td>8</td>\n",
       "      <td>999.0</td>\n",
       "      <td>12</td>\n",
       "    </tr>\n",
       "  </tbody>\n",
       "</table>\n",
       "</div>"
      ],
      "text/plain": [
       "   a  b      c   d\n",
       "0  1  5    9.0   6\n",
       "1  2  6   10.0   8\n",
       "2  3  7   11.0  10\n",
       "3  4  8  999.0  12"
      ]
     },
     "execution_count": 12,
     "metadata": {},
     "output_type": "execute_result"
    }
   ],
   "source": [
    "df['d'] = df['a'] + df['b']  # d列的值等于a列加b列\n",
    "df.fillna(999, inplace=True)  # 将空值填充为999\n",
    "df"
   ]
  },
  {
   "cell_type": "markdown",
   "metadata": {},
   "source": [
    "#### matplotlib\n",
    "Matplotlib 是一个 Python 的 2D绘图库，它以各种硬拷贝格式和跨平台的交互式环境生成出版质量级别的图形。"
   ]
  },
  {
   "cell_type": "code",
   "execution_count": 13,
   "metadata": {
    "scrolled": true
   },
   "outputs": [
    {
     "data": {
      "text/plain": [
       "<Figure size 640x480 with 2 Axes>"
      ]
     },
     "metadata": {},
     "output_type": "display_data"
    }
   ],
   "source": [
    "import matplotlib.pyplot as plt\n",
    "\n",
    "y = np.random.randn(100)  # 随机生成一组数据, 符合标准正态分布\n",
    "ax1 = plt.subplot(1, 2, 1)\n",
    "ax1.hist(y)\n",
    "plt.title(\"hist graph\")\n",
    "\n",
    "x = range(len(y))  # 生成x轴数据，从0开始的递增序列作为x\n",
    "ax2 = plt.subplot(1, 2, 2)\n",
    "ax2.plot(x, y)\n",
    "plt.title(\"line graph\")\n",
    "plt.show()"
   ]
  },
  {
   "cell_type": "markdown",
   "metadata": {},
   "source": [
    "## 1.7 总结&课后任务\n",
    "### 总结\n",
    "<img src=\"./material/第一章总结.png\" width=\"500px\" height=\"500px\"/>\n",
    "\n",
    "### 课后任务\n",
    "* 复习本节课内容\n",
    "* 把鸢尾花分类的代码自己分析复写\n",
    "* 预习下节课内容，提前学习常用第三方库"
   ]
  }
 ],
 "metadata": {
  "kernelspec": {
   "display_name": "Python 3",
   "language": "python",
   "name": "python3"
  },
  "language_info": {
   "codemirror_mode": {
    "name": "ipython",
    "version": 3
   },
   "file_extension": ".py",
   "mimetype": "text/x-python",
   "name": "python",
   "nbconvert_exporter": "python",
   "pygments_lexer": "ipython3",
   "version": "3.7.1"
  }
 },
 "nbformat": 4,
 "nbformat_minor": 2
}
