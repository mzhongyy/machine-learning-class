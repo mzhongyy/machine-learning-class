{
 "cells": [
  {
   "cell_type": "markdown",
   "metadata": {},
   "source": [
    "# 第三章 泰坦尼克号生存预测（上）"
   ]
  },
  {
   "cell_type": "markdown",
   "metadata": {},
   "source": [
    "## 1.1 机器学习建模流程回顾\n",
    "业务理解 -> 获取数据 -> 数据清洗 -> 数据分析 -> 特征工程 -> 建立模型 -> 交叉验证 -> 上线部署"
   ]
  },
  {
   "cell_type": "markdown",
   "metadata": {},
   "source": [
    "## 1.2 业务理解\n",
    "### 案例背景\n",
    "泰坦尼克号沉船事故是世界上最著名的沉船事故之一。1912年4月15日，在她的处女航期间，泰坦尼克号撞上冰山后沉没，造成2224名乘客和机组人员中超过1502人的死亡。这一轰动的悲剧震惊了国际社会，并导致更好的船舶安全法规。 事故中导致死亡的一个原因是许多船员和乘客没有足够的救生艇。然而在被获救群体中也有一些比较幸运的因素；一些人群在事故中被救的几率高于其他人，比如妇女、儿童和上层阶级。 这个Case里，我们需要分析和判断出什么样的人更容易获救。最重要的是，要利用机器学习来预测出在这场灾难中哪些人会最终获救；\n",
    "<img src=\"./material/泰坦尼克news.jpg\" width=\"500\" height=\"500\">"
   ]
  },
  {
   "cell_type": "markdown",
   "metadata": {},
   "source": [
    "#### 从上面的描述中，我们可以获得如下信息：\n",
    "* 问题分类：目的是通过机器学习来预测哪些人会获救；因为对于一条样本，也就是一名乘客来说只有获救和死亡两种结果，因此这是一个二分类的机器学习预测问题；\n",
    "* 输入输出：[乘客信息] -> [生存还是死亡]"
   ]
  },
  {
   "cell_type": "markdown",
   "metadata": {},
   "source": [
    "## 1.3 获取数据\n",
    "### 数据集\n",
    "Titanic 生存模型预测，其中包含了两组数据：train.csv 和 test.csv，分别为训练集合和测试集合,已经放在material文件夹里。\n",
    "一般我们拿训练集来训练模型，当模型训练好之后我们再用测试集数据来检测模型效果。"
   ]
  },
  {
   "cell_type": "code",
   "execution_count": 1,
   "metadata": {},
   "outputs": [],
   "source": [
    "import re  # 加载正则表达式库\n",
    "import numpy as np\n",
    "import pandas as pd\n",
    "import matplotlib.pyplot as plt\n",
    "import seaborn as sns  # 一个强大的作图第三方库，更强大、更简洁、更美观\n",
    "\n",
    "import warnings\n",
    "warnings.filterwarnings('ignore')  # 忽略警告"
   ]
  },
  {
   "cell_type": "markdown",
   "metadata": {},
   "source": [
    "### 数据特征\n",
    "| 字段 | 字段说明 |\n",
    "| ------ | ------ |\n",
    "| PassengerId | 乘客编号 |\n",
    "|Survived\t|存活情况（存活：1 ; 死亡：0）|\n",
    "|Pclass\t|客舱等级|\n",
    "|Name\t|乘客姓名|\n",
    "|Sex\t|性别|\n",
    "|Age\t|年龄|\n",
    "|SibSp\t|同乘的兄弟姐妹/配偶数|\n",
    "|Parch\t|同乘的父母/小孩数|\n",
    "|Ticket\t|船票编号|\n",
    "|Fare\t|船票价格|\n",
    "|Cabin\t|客舱号|\n",
    "|Embarked|登船港口|"
   ]
  },
  {
   "cell_type": "code",
   "execution_count": 49,
   "metadata": {
    "scrolled": true
   },
   "outputs": [
    {
     "data": {
      "text/html": [
       "<div>\n",
       "<style scoped>\n",
       "    .dataframe tbody tr th:only-of-type {\n",
       "        vertical-align: middle;\n",
       "    }\n",
       "\n",
       "    .dataframe tbody tr th {\n",
       "        vertical-align: top;\n",
       "    }\n",
       "\n",
       "    .dataframe thead th {\n",
       "        text-align: right;\n",
       "    }\n",
       "</style>\n",
       "<table border=\"1\" class=\"dataframe\">\n",
       "  <thead>\n",
       "    <tr style=\"text-align: right;\">\n",
       "      <th></th>\n",
       "      <th>PassengerId</th>\n",
       "      <th>Survived</th>\n",
       "      <th>Pclass</th>\n",
       "      <th>Name</th>\n",
       "      <th>Sex</th>\n",
       "      <th>Age</th>\n",
       "      <th>SibSp</th>\n",
       "      <th>Parch</th>\n",
       "      <th>Ticket</th>\n",
       "      <th>Fare</th>\n",
       "      <th>Cabin</th>\n",
       "      <th>Embarked</th>\n",
       "    </tr>\n",
       "  </thead>\n",
       "  <tbody>\n",
       "    <tr>\n",
       "      <th>0</th>\n",
       "      <td>1</td>\n",
       "      <td>0</td>\n",
       "      <td>3</td>\n",
       "      <td>Braund, Mr. Owen Harris</td>\n",
       "      <td>male</td>\n",
       "      <td>22.0</td>\n",
       "      <td>1</td>\n",
       "      <td>0</td>\n",
       "      <td>A/5 21171</td>\n",
       "      <td>7.2500</td>\n",
       "      <td>NaN</td>\n",
       "      <td>S</td>\n",
       "    </tr>\n",
       "    <tr>\n",
       "      <th>1</th>\n",
       "      <td>2</td>\n",
       "      <td>1</td>\n",
       "      <td>1</td>\n",
       "      <td>Cumings, Mrs. John Bradley (Florence Briggs Th...</td>\n",
       "      <td>female</td>\n",
       "      <td>38.0</td>\n",
       "      <td>1</td>\n",
       "      <td>0</td>\n",
       "      <td>PC 17599</td>\n",
       "      <td>71.2833</td>\n",
       "      <td>C85</td>\n",
       "      <td>C</td>\n",
       "    </tr>\n",
       "    <tr>\n",
       "      <th>2</th>\n",
       "      <td>3</td>\n",
       "      <td>1</td>\n",
       "      <td>3</td>\n",
       "      <td>Heikkinen, Miss. Laina</td>\n",
       "      <td>female</td>\n",
       "      <td>26.0</td>\n",
       "      <td>0</td>\n",
       "      <td>0</td>\n",
       "      <td>STON/O2. 3101282</td>\n",
       "      <td>7.9250</td>\n",
       "      <td>NaN</td>\n",
       "      <td>S</td>\n",
       "    </tr>\n",
       "    <tr>\n",
       "      <th>3</th>\n",
       "      <td>4</td>\n",
       "      <td>1</td>\n",
       "      <td>1</td>\n",
       "      <td>Futrelle, Mrs. Jacques Heath (Lily May Peel)</td>\n",
       "      <td>female</td>\n",
       "      <td>35.0</td>\n",
       "      <td>1</td>\n",
       "      <td>0</td>\n",
       "      <td>113803</td>\n",
       "      <td>53.1000</td>\n",
       "      <td>C123</td>\n",
       "      <td>S</td>\n",
       "    </tr>\n",
       "    <tr>\n",
       "      <th>4</th>\n",
       "      <td>5</td>\n",
       "      <td>0</td>\n",
       "      <td>3</td>\n",
       "      <td>Allen, Mr. William Henry</td>\n",
       "      <td>male</td>\n",
       "      <td>35.0</td>\n",
       "      <td>0</td>\n",
       "      <td>0</td>\n",
       "      <td>373450</td>\n",
       "      <td>8.0500</td>\n",
       "      <td>NaN</td>\n",
       "      <td>S</td>\n",
       "    </tr>\n",
       "  </tbody>\n",
       "</table>\n",
       "</div>"
      ],
      "text/plain": [
       "   PassengerId  Survived  Pclass  \\\n",
       "0            1         0       3   \n",
       "1            2         1       1   \n",
       "2            3         1       3   \n",
       "3            4         1       1   \n",
       "4            5         0       3   \n",
       "\n",
       "                                                Name     Sex   Age  SibSp  \\\n",
       "0                            Braund, Mr. Owen Harris    male  22.0      1   \n",
       "1  Cumings, Mrs. John Bradley (Florence Briggs Th...  female  38.0      1   \n",
       "2                             Heikkinen, Miss. Laina  female  26.0      0   \n",
       "3       Futrelle, Mrs. Jacques Heath (Lily May Peel)  female  35.0      1   \n",
       "4                           Allen, Mr. William Henry    male  35.0      0   \n",
       "\n",
       "   Parch            Ticket     Fare Cabin Embarked  \n",
       "0      0         A/5 21171   7.2500   NaN        S  \n",
       "1      0          PC 17599  71.2833   C85        C  \n",
       "2      0  STON/O2. 3101282   7.9250   NaN        S  \n",
       "3      0            113803  53.1000  C123        S  \n",
       "4      0            373450   8.0500   NaN        S  "
      ]
     },
     "execution_count": 49,
     "metadata": {},
     "output_type": "execute_result"
    }
   ],
   "source": [
    "train_data = pd.read_csv('./material/titanic_train.csv')  # pd.read_csv读取csv文件为DataFrame\n",
    "test_data = pd.read_csv('./material/titanic_test.csv')\n",
    "pd.read_sql\n",
    "\n",
    "train_data.head()  # 观察前5行"
   ]
  },
  {
   "cell_type": "code",
   "execution_count": 3,
   "metadata": {},
   "outputs": [
    {
     "data": {
      "text/html": [
       "<div>\n",
       "<style scoped>\n",
       "    .dataframe tbody tr th:only-of-type {\n",
       "        vertical-align: middle;\n",
       "    }\n",
       "\n",
       "    .dataframe tbody tr th {\n",
       "        vertical-align: top;\n",
       "    }\n",
       "\n",
       "    .dataframe thead th {\n",
       "        text-align: right;\n",
       "    }\n",
       "</style>\n",
       "<table border=\"1\" class=\"dataframe\">\n",
       "  <thead>\n",
       "    <tr style=\"text-align: right;\">\n",
       "      <th></th>\n",
       "      <th>PassengerId</th>\n",
       "      <th>Survived</th>\n",
       "      <th>Pclass</th>\n",
       "      <th>Age</th>\n",
       "      <th>SibSp</th>\n",
       "      <th>Parch</th>\n",
       "      <th>Fare</th>\n",
       "    </tr>\n",
       "  </thead>\n",
       "  <tbody>\n",
       "    <tr>\n",
       "      <th>count</th>\n",
       "      <td>891.000000</td>\n",
       "      <td>891.000000</td>\n",
       "      <td>891.000000</td>\n",
       "      <td>714.000000</td>\n",
       "      <td>891.000000</td>\n",
       "      <td>891.000000</td>\n",
       "      <td>891.000000</td>\n",
       "    </tr>\n",
       "    <tr>\n",
       "      <th>mean</th>\n",
       "      <td>446.000000</td>\n",
       "      <td>0.383838</td>\n",
       "      <td>2.308642</td>\n",
       "      <td>29.699118</td>\n",
       "      <td>0.523008</td>\n",
       "      <td>0.381594</td>\n",
       "      <td>32.204208</td>\n",
       "    </tr>\n",
       "    <tr>\n",
       "      <th>std</th>\n",
       "      <td>257.353842</td>\n",
       "      <td>0.486592</td>\n",
       "      <td>0.836071</td>\n",
       "      <td>14.526497</td>\n",
       "      <td>1.102743</td>\n",
       "      <td>0.806057</td>\n",
       "      <td>49.693429</td>\n",
       "    </tr>\n",
       "    <tr>\n",
       "      <th>min</th>\n",
       "      <td>1.000000</td>\n",
       "      <td>0.000000</td>\n",
       "      <td>1.000000</td>\n",
       "      <td>0.420000</td>\n",
       "      <td>0.000000</td>\n",
       "      <td>0.000000</td>\n",
       "      <td>0.000000</td>\n",
       "    </tr>\n",
       "    <tr>\n",
       "      <th>25%</th>\n",
       "      <td>223.500000</td>\n",
       "      <td>0.000000</td>\n",
       "      <td>2.000000</td>\n",
       "      <td>20.125000</td>\n",
       "      <td>0.000000</td>\n",
       "      <td>0.000000</td>\n",
       "      <td>7.910400</td>\n",
       "    </tr>\n",
       "    <tr>\n",
       "      <th>50%</th>\n",
       "      <td>446.000000</td>\n",
       "      <td>0.000000</td>\n",
       "      <td>3.000000</td>\n",
       "      <td>28.000000</td>\n",
       "      <td>0.000000</td>\n",
       "      <td>0.000000</td>\n",
       "      <td>14.454200</td>\n",
       "    </tr>\n",
       "    <tr>\n",
       "      <th>75%</th>\n",
       "      <td>668.500000</td>\n",
       "      <td>1.000000</td>\n",
       "      <td>3.000000</td>\n",
       "      <td>38.000000</td>\n",
       "      <td>1.000000</td>\n",
       "      <td>0.000000</td>\n",
       "      <td>31.000000</td>\n",
       "    </tr>\n",
       "    <tr>\n",
       "      <th>max</th>\n",
       "      <td>891.000000</td>\n",
       "      <td>1.000000</td>\n",
       "      <td>3.000000</td>\n",
       "      <td>80.000000</td>\n",
       "      <td>8.000000</td>\n",
       "      <td>6.000000</td>\n",
       "      <td>512.329200</td>\n",
       "    </tr>\n",
       "  </tbody>\n",
       "</table>\n",
       "</div>"
      ],
      "text/plain": [
       "       PassengerId    Survived      Pclass         Age       SibSp  \\\n",
       "count   891.000000  891.000000  891.000000  714.000000  891.000000   \n",
       "mean    446.000000    0.383838    2.308642   29.699118    0.523008   \n",
       "std     257.353842    0.486592    0.836071   14.526497    1.102743   \n",
       "min       1.000000    0.000000    1.000000    0.420000    0.000000   \n",
       "25%     223.500000    0.000000    2.000000   20.125000    0.000000   \n",
       "50%     446.000000    0.000000    3.000000   28.000000    0.000000   \n",
       "75%     668.500000    1.000000    3.000000   38.000000    1.000000   \n",
       "max     891.000000    1.000000    3.000000   80.000000    8.000000   \n",
       "\n",
       "            Parch        Fare  \n",
       "count  891.000000  891.000000  \n",
       "mean     0.381594   32.204208  \n",
       "std      0.806057   49.693429  \n",
       "min      0.000000    0.000000  \n",
       "25%      0.000000    7.910400  \n",
       "50%      0.000000   14.454200  \n",
       "75%      0.000000   31.000000  \n",
       "max      6.000000  512.329200  "
      ]
     },
     "execution_count": 3,
     "metadata": {},
     "output_type": "execute_result"
    }
   ],
   "source": [
    "train_data.describe()"
   ]
  },
  {
   "cell_type": "code",
   "execution_count": 4,
   "metadata": {},
   "outputs": [
    {
     "name": "stdout",
     "output_type": "stream",
     "text": [
      "<class 'pandas.core.frame.DataFrame'>\n",
      "RangeIndex: 891 entries, 0 to 890\n",
      "Data columns (total 12 columns):\n",
      "PassengerId    891 non-null int64\n",
      "Survived       891 non-null int64\n",
      "Pclass         891 non-null int64\n",
      "Name           891 non-null object\n",
      "Sex            891 non-null object\n",
      "Age            714 non-null float64\n",
      "SibSp          891 non-null int64\n",
      "Parch          891 non-null int64\n",
      "Ticket         891 non-null object\n",
      "Fare           891 non-null float64\n",
      "Cabin          204 non-null object\n",
      "Embarked       889 non-null object\n",
      "dtypes: float64(2), int64(5), object(5)\n",
      "memory usage: 83.6+ KB\n",
      "None\n",
      "----------------------------------------\n",
      "<class 'pandas.core.frame.DataFrame'>\n",
      "RangeIndex: 418 entries, 0 to 417\n",
      "Data columns (total 11 columns):\n",
      "PassengerId    418 non-null int64\n",
      "Pclass         418 non-null int64\n",
      "Name           418 non-null object\n",
      "Sex            418 non-null object\n",
      "Age            332 non-null float64\n",
      "SibSp          418 non-null int64\n",
      "Parch          418 non-null int64\n",
      "Ticket         418 non-null object\n",
      "Fare           417 non-null float64\n",
      "Cabin          91 non-null object\n",
      "Embarked       418 non-null object\n",
      "dtypes: float64(2), int64(4), object(5)\n",
      "memory usage: 36.0+ KB\n",
      "None\n"
     ]
    }
   ],
   "source": [
    "print(train_data.info())  # 使用info函数，数据信息总览\n",
    "print(\"-\" * 40)\n",
    "print(test_data.info())"
   ]
  },
  {
   "cell_type": "markdown",
   "metadata": {},
   "source": [
    "从上面的数据描述中可以看出，Age、Cabin、Embarked、Fare几个特征存在缺失值。\n",
    "再来看下存活的比例如何："
   ]
  },
  {
   "cell_type": "code",
   "execution_count": 5,
   "metadata": {},
   "outputs": [
    {
     "name": "stdout",
     "output_type": "stream",
     "text": [
      "0    549\n",
      "1    342\n",
      "Name: Survived, dtype: int64\n"
     ]
    },
    {
     "data": {
      "image/png": "[encoded data removed]",
      "text/plain": [
       "<Figure size 432x288 with 1 Axes>"
      ]
     },
     "metadata": {},
     "output_type": "display_data"
    }
   ],
   "source": [
    "survived_value_counts = train_data['Survived'].value_counts()  # value_counts 方法统计每个数字出现的次数\n",
    "print(survived_value_counts)\n",
    "\n",
    "plt.figure()\n",
    "survived_value_counts.plot.pie(autopct = '%.2f%%')\n",
    "plt.show()\n",
    "\n",
    "#autopct，圆里面的文本格式，%.2f%%表示保留两位小数"
   ]
  },
  {
   "cell_type": "markdown",
   "metadata": {},
   "source": [
    "## 1.4 数据清洗"
   ]
  },
  {
   "cell_type": "markdown",
   "metadata": {},
   "source": [
    "### 缺失值处理\n",
    "对于数据进行分析的时候要注意是否有缺失值。有些机器学习算法能够自动处理缺失值，如基于树的模型和神经网络，一些则不能，处理缺失值一般有以下方法：\n",
    "* 如果数据集很多，但有很少的缺失值，可以删掉带缺失值的行；\n",
    "* 数据特征数据缺失占比很大，也就也没有太大的分析意义，可以直接删除此特征数据；\n",
    "* 大多数情况下，可以对缺失值赋均值或者众数。\n",
    "* 有时看情况也可以赋一个代表缺失的值，比如‘U0’。因为缺失本身也可能代表着一些隐含信息。比如船舱号Cabin这一属性，缺失可能代表并没有船舱。\n",
    "* 或者使用其他的特征来对缺失值进行简单预测，填补缺失。"
   ]
  },
  {
   "cell_type": "markdown",
   "metadata": {},
   "source": [
    "比如在哪上船Embarked这个属性，缺失值有两个，上船地点只有三个，我们直接使用众数填补就好了。\n",
    "\n",
    "而船舱Cabin这个属性，缺失值达到了80%，我采取直接删除的处理方式。"
   ]
  },
  {
   "cell_type": "code",
   "execution_count": 6,
   "metadata": {},
   "outputs": [
    {
     "name": "stdout",
     "output_type": "stream",
     "text": [
      "<class 'pandas.core.frame.DataFrame'>\n",
      "RangeIndex: 891 entries, 0 to 890\n",
      "Data columns (total 12 columns):\n",
      "PassengerId    891 non-null int64\n",
      "Survived       891 non-null int64\n",
      "Pclass         891 non-null int64\n",
      "Name           891 non-null object\n",
      "Sex            891 non-null object\n",
      "Age            714 non-null float64\n",
      "SibSp          891 non-null int64\n",
      "Parch          891 non-null int64\n",
      "Ticket         891 non-null object\n",
      "Fare           891 non-null float64\n",
      "Cabin          204 non-null object\n",
      "Embarked       891 non-null object\n",
      "dtypes: float64(2), int64(5), object(5)\n",
      "memory usage: 83.6+ KB\n"
     ]
    }
   ],
   "source": [
    "em_mode = train_data['Embarked'].mode()[0]  # 首先获取众数\n",
    "train_data['Embarked'].fillna(em_mode, inplace=True)  # 进行填充\n",
    "train_data.info()\n",
    "train_data.drop(['Cabin'], inplace=True, axis=1)  # 直接删除Cabin"
   ]
  },
  {
   "cell_type": "markdown",
   "metadata": {},
   "source": [
    "Age缺失了近两成数据，我们可以采取用其他特征来对Age进行建模预测的方式，来对Age缺失值进行填补。"
   ]
  },
  {
   "cell_type": "code",
   "execution_count": 7,
   "metadata": {},
   "outputs": [
    {
     "name": "stdout",
     "output_type": "stream",
     "text": [
      "0.42\n"
     ]
    }
   ],
   "source": [
    "from sklearn.ensemble import RandomForestRegressor  # 使用随机深林模型\n",
    "\n",
    "#choose training data to predict age\n",
    "age_df = train_data[['Age','Survived','Fare', 'Parch', 'SibSp', 'Pclass']]  # 选择Age预测所需的特征数据，自己觉得和Age有关的\n",
    "age_df_notnull = age_df.loc[(train_data['Age'].notnull())]  # Age未缺失的作为训练集训练模型\n",
    "age_df_isnull = age_df.loc[(train_data['Age'].isnull())]  # Age缺失的作为预测集，来预测Age\n",
    "X = age_df_notnull.values[:,1:]  # 其他数据作为输入特征X\n",
    "Y = age_df_notnull.values[:,0]  # Age作为标签y\n",
    "# print(X)\n",
    "# print(Y)\n",
    "print(min(train_data['Age']))"
   ]
  },
  {
   "cell_type": "code",
   "execution_count": 8,
   "metadata": {},
   "outputs": [
    {
     "name": "stdout",
     "output_type": "stream",
     "text": [
      "[23.99142956 33.47563918 18.55810833 35.07246347 22.898475   27.91292251\n",
      " 37.05719048 22.12360224 16.85028333 27.91292251 31.75979324 33.7999\n",
      " 22.12360224 23.56612857 41.08650079 39.03361468 15.09661143 27.91292251\n",
      " 31.75979324 23.88769048 31.75979324 31.75979324 27.91292251 22.83958953\n",
      " 30.7257404  31.75979324 40.34533808 15.22960094 31.61096667 30.74981993\n",
      " 25.53852318 11.06063533 25.5458     58.55736883  7.63787826 11.06063533\n",
      " 32.44356461 58.08408333 26.65992857 40.34533808 22.12360224 11.06063533\n",
      " 34.51712012 27.91292251  7.63787826 35.5788619  22.86285694 26.65992857\n",
      " 30.74981993 34.18728333 40.34533808 40.34533808 53.179      22.12360224\n",
      " 35.6319619  58.99740216 39.03361468 37.10112413 22.12360224 26.25071418\n",
      " 31.98902231 31.75979324 28.96011667 11.06063533 26.25071418 32.37152619\n",
      " 27.91292251 26.57740714 61.51686667 35.07246347 22.898475   22.898475\n",
      " 33.7999     16.85028333 22.12360224 35.02730714 27.91292251 24.78327164\n",
      "  7.63787826 27.91292251 21.41952305 35.6319619  31.75979324 27.91292251\n",
      " 30.74981993 40.34533808 26.57740714 25.27865202 22.46117937 31.75979324\n",
      " 42.28735714 40.34533808 31.75979324 35.6319619  24.78327164 30.74981993\n",
      " 45.38505    35.6319619   7.63787826 22.46117937 18.98733214 23.61237917\n",
      " 29.04225595 42.81523945 31.75979324 33.51421667 35.07246347 26.17146251\n",
      " 30.02478571 26.17146251  7.70552667 24.27663155 30.72080235 25.68252556\n",
      " 30.02478571 40.34533808 31.75979324 31.75979324 26.17146251 22.12360224\n",
      " 21.6186498  25.80250993 31.75979324 29.20793654 20.00961368 35.07246347\n",
      " 27.91292251 38.16475    27.93471244 26.65992857 40.34533808 24.78327164\n",
      " 38.94622078 26.79286825 29.87127857 35.5788619  27.91292251 27.8675381\n",
      " 27.91292251 28.1316333  41.34159881 35.6319619  23.73945734 29.87127857\n",
      " 18.18770163 15.09661143 58.52332942 27.8448875  18.18770163 35.6319619\n",
      " 27.91292251 27.91292251 40.61727897 24.27663155 40.36275    33.22659142\n",
      " 35.07246347 40.34533808 24.78327164 24.9284619  40.34533808 11.06063533\n",
      " 53.95883333 38.94622078 38.5285017  29.39789881 22.12360224 26.17146251\n",
      " 31.75979324 41.15037897 11.06063533 43.94373452 26.17146251 11.06063533\n",
      " 24.67669537 27.91292251 24.9284619 ]\n"
     ]
    }
   ],
   "source": [
    "# use RandomForestRegression to train data\n",
    "RFR = RandomForestRegressor(n_estimators=1000)  # 新建随机深林模型，n_estimators选择1000课树，\n",
    "RFR.fit(X,Y)  # 进行训练\n",
    "predictAges = RFR.predict(age_df_isnull.values[:,1:])  # 对缺失的部分进行预测\n",
    "print(predictAges)"
   ]
  },
  {
   "cell_type": "code",
   "execution_count": 9,
   "metadata": {},
   "outputs": [
    {
     "name": "stdout",
     "output_type": "stream",
     "text": [
      "<class 'pandas.core.frame.DataFrame'>\n",
      "RangeIndex: 891 entries, 0 to 890\n",
      "Data columns (total 11 columns):\n",
      "PassengerId    891 non-null int64\n",
      "Survived       891 non-null int64\n",
      "Pclass         891 non-null int64\n",
      "Name           891 non-null object\n",
      "Sex            891 non-null object\n",
      "Age            891 non-null int32\n",
      "SibSp          891 non-null int64\n",
      "Parch          891 non-null int64\n",
      "Ticket         891 non-null object\n",
      "Fare           891 non-null float64\n",
      "Embarked       891 non-null object\n",
      "dtypes: float64(1), int32(1), int64(5), object(4)\n",
      "memory usage: 73.2+ KB\n",
      "0\n"
     ]
    }
   ],
   "source": [
    "train_data.loc[train_data['Age'].isnull(), ['Age']] = predictAges  # 对缺失的数据列进行填补\n",
    "train_data['Age'] = train_data['Age'].astype(int)\n",
    "train_data.info()\n",
    "print(min(train_data['Age']))"
   ]
  },
  {
   "cell_type": "markdown",
   "metadata": {},
   "source": [
    "## 1.5 数据关系分析\n",
    "当处理完缺失值之后，我们经常会做就是去分析变量与变量之间，变量与因变量之间的关系。为下一步更好的进行特征工程做准备。"
   ]
  },
  {
   "cell_type": "markdown",
   "metadata": {},
   "source": [
    "### 1. 性别与是否生存的关系Sex"
   ]
  },
  {
   "cell_type": "code",
   "execution_count": 10,
   "metadata": {},
   "outputs": [
    {
     "name": "stdout",
     "output_type": "stream",
     "text": [
      "Sex\n",
      "female    0.742038\n",
      "male      0.188908\n",
      "Name: Survived, dtype: float64\n"
     ]
    },
    {
     "data": {
      "image/png": "[encoded data removed]",
      "text/plain": [
       "<Figure size 432x288 with 1 Axes>"
      ]
     },
     "metadata": {
      "needs_background": "light"
     },
     "output_type": "display_data"
    }
   ],
   "source": [
    "sex_survived = train_data.groupby(['Sex'])['Survived'].mean()\n",
    "print(sex_survived)\n",
    "plt.figure()\n",
    "sex_survived.plot.bar()\n",
    "plt.show()"
   ]
  },
  {
   "cell_type": "markdown",
   "metadata": {},
   "source": [
    "可以看出，泰坦尼克号的生存事故中，确实体现了女士优先的绅士精神；女性的存活率远高于男性。对我们的建模来说，性别是一个重要的特征。"
   ]
  },
  {
   "cell_type": "markdown",
   "metadata": {},
   "source": [
    "### 2. 船舱等级与生存的关系Pclass"
   ]
  },
  {
   "cell_type": "code",
   "execution_count": 11,
   "metadata": {},
   "outputs": [
    {
     "name": "stdout",
     "output_type": "stream",
     "text": [
      "Pclass\n",
      "1    0.629630\n",
      "2    0.472826\n",
      "3    0.242363\n",
      "Name: Survived, dtype: float64\n"
     ]
    },
    {
     "data": {
      "image/png": "[encoded data removed]",
      "text/plain": [
       "<Figure size 432x288 with 1 Axes>"
      ]
     },
     "metadata": {
      "needs_background": "light"
     },
     "output_type": "display_data"
    }
   ],
   "source": [
    "pclass_survived = train_data.groupby(['Pclass'])['Survived'].mean()\n",
    "print(pclass_survived)\n",
    "plt.figure()\n",
    "pclass_survived.plot.bar()\n",
    "plt.show()"
   ]
  },
  {
   "cell_type": "markdown",
   "metadata": {},
   "source": [
    "头等舱的生存率还是明显高于后面的仓位的，钱的力量还是很强的。"
   ]
  },
  {
   "cell_type": "markdown",
   "metadata": {},
   "source": [
    "### 1.3 年龄与存活与否的关系Age"
   ]
  },
  {
   "cell_type": "code",
   "execution_count": 12,
   "metadata": {},
   "outputs": [
    {
     "data": {
      "image/png": "[encoded data removed]",
      "text/plain": [
       "<Figure size 432x288 with 1 Axes>"
      ]
     },
     "metadata": {
      "needs_background": "light"
     },
     "output_type": "display_data"
    }
   ],
   "source": [
    "# 先来看下整体的年龄分布\n",
    "plt.figure()\n",
    "sns.distplot(train_data['Age'])  # 直方图\n",
    "plt.show()"
   ]
  },
  {
   "cell_type": "markdown",
   "metadata": {},
   "source": [
    "乘客年龄整体呈正态分布，18-50岁的乘客占大多数。"
   ]
  },
  {
   "cell_type": "code",
   "execution_count": 13,
   "metadata": {},
   "outputs": [
    {
     "name": "stdout",
     "output_type": "stream",
     "text": [
      "Age\n",
      "0     1.000000\n",
      "1     0.714286\n",
      "2     0.300000\n",
      "3     0.833333\n",
      "4     0.700000\n",
      "5     1.000000\n",
      "6     0.666667\n",
      "7     0.250000\n",
      "8     0.500000\n",
      "9     0.250000\n",
      "10    0.000000\n",
      "11    0.090909\n",
      "12    1.000000\n",
      "13    1.000000\n",
      "14    0.428571\n",
      "15    0.875000\n",
      "16    0.421053\n",
      "17    0.461538\n",
      "18    0.400000\n",
      "19    0.360000\n",
      "20    0.235294\n",
      "21    0.192308\n",
      "22    0.547619\n",
      "23    0.285714\n",
      "24    0.375000\n",
      "25    0.285714\n",
      "26    0.419355\n",
      "27    0.333333\n",
      "28    0.275862\n",
      "29    0.400000\n",
      "        ...   \n",
      "41    0.555556\n",
      "42    0.533333\n",
      "43    0.333333\n",
      "44    0.333333\n",
      "45    0.333333\n",
      "46    0.000000\n",
      "47    0.111111\n",
      "48    0.666667\n",
      "49    0.666667\n",
      "50    0.500000\n",
      "51    0.285714\n",
      "52    0.500000\n",
      "53    0.333333\n",
      "54    0.375000\n",
      "55    0.333333\n",
      "56    0.500000\n",
      "57    0.000000\n",
      "58    0.333333\n",
      "59    0.000000\n",
      "60    0.500000\n",
      "61    0.000000\n",
      "62    0.500000\n",
      "63    1.000000\n",
      "64    0.000000\n",
      "65    0.000000\n",
      "66    0.000000\n",
      "70    0.000000\n",
      "71    0.000000\n",
      "74    0.000000\n",
      "80    1.000000\n",
      "Name: Survived, Length: 71, dtype: float64\n"
     ]
    },
    {
     "data": {
      "text/plain": [
       "<function matplotlib.pyplot.show(*args, **kw)>"
      ]
     },
     "execution_count": 13,
     "metadata": {},
     "output_type": "execute_result"
    },
    {
     "data": {
      "image/png": "[encoded data removed]",
      "text/plain": [
       "<Figure size 1008x360 with 1 Axes>"
      ]
     },
     "metadata": {
      "needs_background": "light"
     },
     "output_type": "display_data"
    }
   ],
   "source": [
    "# 用条形图图来看下不同年龄的生存概率\n",
    "age_survived = train_data.groupby(['Age'])['Survived'].mean()\n",
    "print(age_survived)\n",
    "plt.figure(figsize=(14, 5))\n",
    "age_survived.plot.bar()\n",
    "plt.show"
   ]
  },
  {
   "cell_type": "markdown",
   "metadata": {},
   "source": [
    "我们看到，小孩子和老人的存活率好像比年轻力壮的年轻人还要高，但这是真的吗；我们前面直方图看到，有些年龄人很少，比如80岁的人只有一个还恰巧生存，样本太少这个存活率就没意义。那我们应该如何分析呢？"
   ]
  },
  {
   "cell_type": "markdown",
   "metadata": {},
   "source": [
    "样本共有891个，我们可以年龄将乘客划分为儿童、少年、成年、壮年、老年五个群体，再分别进行分析。"
   ]
  },
  {
   "cell_type": "code",
   "execution_count": 14,
   "metadata": {},
   "outputs": [
    {
     "name": "stdout",
     "output_type": "stream",
     "text": [
      "Age_group\n",
      "(-1, 12]     0.506173\n",
      "(12, 18]     0.481013\n",
      "(18, 40]     0.355009\n",
      "(40, 65]     0.389610\n",
      "(65, 100]    0.125000\n",
      "Name: Survived, dtype: float64\n"
     ]
    },
    {
     "data": {
      "image/png": "[encoded data removed]",
      "text/plain": [
       "<Figure size 432x288 with 1 Axes>"
      ]
     },
     "metadata": {
      "needs_background": "light"
     },
     "output_type": "display_data"
    }
   ],
   "source": [
    "bins = [-1, 12, 18, 40, 65,100]\n",
    "train_data['Age_group'] = pd.cut(train_data['Age'], bins)  # 使用cut函数对年龄进行分组\n",
    "age_survived = train_data.groupby(['Age_group'])['Survived'].mean()\n",
    "print(age_survived)\n",
    "plt.figure()\n",
    "age_survived.plot.bar()\n",
    "plt.show()"
   ]
  },
  {
   "cell_type": "markdown",
   "metadata": {},
   "source": [
    "如图，这个结果还是蛮出乎意料，生命力更弱小的婴儿和孩子反而是生存概率更大的群体，可以想象，大人们愿意将未来留给孩子。"
   ]
  },
  {
   "cell_type": "markdown",
   "metadata": {},
   "source": [
    "### 4 名称与存活的关系 Name\n",
    "这里你一定会疑惑，一个人叫什么会和生存与否有关吗？如果是单纯的人名的话当然不会有关系，但我们先看下这份名单的Name："
   ]
  },
  {
   "cell_type": "markdown",
   "metadata": {},
   "source": [
    "<img src=\"./material/name 称呼.png\">"
   ]
  },
  {
   "cell_type": "markdown",
   "metadata": {},
   "source": [
    "我们发现每个人的name也都包含了称位头衔的信息，如Master、Mr、Mrs、Doctor，我们可以猜想，一个人的地位应该和生存与否是否会有关系呢？"
   ]
  },
  {
   "cell_type": "code",
   "execution_count": 15,
   "metadata": {},
   "outputs": [
    {
     "data": {
      "text/plain": [
       "0      Mr\n",
       "1     Mrs\n",
       "2    Miss\n",
       "3     Mrs\n",
       "4      Mr\n",
       "Name: Title, dtype: object"
      ]
     },
     "execution_count": 15,
     "metadata": {},
     "output_type": "execute_result"
    }
   ],
   "source": [
    "# 利用正则表达式获取头衔信息\n",
    "train_data['Title'] = train_data['Name'].map(lambda x: re.search(\"([A-Za-z]+)\\.\", x).group()[:-1])\n",
    "train_data['Title'].head()"
   ]
  },
  {
   "cell_type": "code",
   "execution_count": 16,
   "metadata": {},
   "outputs": [
    {
     "name": "stdout",
     "output_type": "stream",
     "text": [
      "Title\n",
      "Capt        0.000000\n",
      "Col         0.500000\n",
      "Countess    1.000000\n",
      "Don         0.000000\n",
      "Dr          0.428571\n",
      "Jonkheer    0.000000\n",
      "Lady        1.000000\n",
      "Major       0.500000\n",
      "Master      0.575000\n",
      "Miss        0.697802\n",
      "Mlle        1.000000\n",
      "Mme         1.000000\n",
      "Mr          0.156673\n",
      "Mrs         0.792000\n",
      "Ms          1.000000\n",
      "Rev         0.000000\n",
      "Sir         1.000000\n",
      "Name: Survived, dtype: float64\n"
     ]
    },
    {
     "data": {
      "image/png": "[encoded data removed]",
      "text/plain": [
       "<Figure size 432x288 with 1 Axes>"
      ]
     },
     "metadata": {
      "needs_background": "light"
     },
     "output_type": "display_data"
    }
   ],
   "source": [
    "# 接下来就可以看头衔信息与生存的关系了\n",
    "title_survived = train_data.groupby(['Title'])['Survived'].mean()\n",
    "print(title_survived)\n",
    "plt.figure()\n",
    "title_survived.plot.bar()\n",
    "plt.show()"
   ]
  },
  {
   "cell_type": "markdown",
   "metadata": {},
   "source": [
    "如图看出，成为也对生存概率有所影响，但也存在某类样本过少的问题。"
   ]
  },
  {
   "cell_type": "markdown",
   "metadata": {},
   "source": [
    "### 5 有无兄弟姐妹和存活的关系 SibSp"
   ]
  },
  {
   "cell_type": "code",
   "execution_count": 17,
   "metadata": {},
   "outputs": [
    {
     "data": {
      "image/png": "[encoded data removed]",
      "text/plain": [
       "<Figure size 792x360 with 2 Axes>"
      ]
     },
     "metadata": {},
     "output_type": "display_data"
    }
   ],
   "source": [
    "#将数据分为有兄弟姐妹和没有兄弟姐妹的两组：\n",
    "sibsp_df = train_data[train_data['SibSp'] != 0]\n",
    "no_sibsp_df = train_data[train_data['SibSp'] == 0]\n",
    "\n",
    "plt.figure(figsize=(11,5))\n",
    "plt.subplot(121)\n",
    "sibsp_df['Survived'].value_counts().plot.pie(labels=['No Survived','Survived'],autopct= '%1.1f%%')\n",
    "plt.xlabel('sibsp')\n",
    " \n",
    "plt.subplot(122)\n",
    "no_sibsp_df['Survived'].value_counts().plot.pie(labels=['No Survived','Survived'],autopct= '%1.1f%%')\n",
    "plt.xlabel('no_sibsp')\n",
    " \n",
    "plt.show()"
   ]
  },
  {
   "cell_type": "markdown",
   "metadata": {},
   "source": [
    "有兄妹的会比没有的存活率更高一些"
   ]
  },
  {
   "cell_type": "markdown",
   "metadata": {},
   "source": [
    "### 6 有无父母子女和存活的关系 Parch"
   ]
  },
  {
   "cell_type": "code",
   "execution_count": 18,
   "metadata": {},
   "outputs": [
    {
     "data": {
      "image/png": "[encoded data removed]",
      "text/plain": [
       "<Figure size 792x360 with 2 Axes>"
      ]
     },
     "metadata": {},
     "output_type": "display_data"
    }
   ],
   "source": [
    "# 和兄弟姐妹一样的分析思路\n",
    "parch_df = train_data[train_data['Parch'] != 0]  \n",
    "no_parch_df = train_data[train_data['Parch'] == 0]  \n",
    " \n",
    "plt.figure(figsize=(11,5))  \n",
    "plt.subplot(121)  \n",
    "parch_df['Survived'].value_counts().plot.pie(labels=['No Survived', 'Survived'], autopct= '%1.2f%%')  \n",
    "plt.xlabel('parch')  \n",
    " \n",
    "plt.subplot(122)  \n",
    "no_parch_df['Survived'].value_counts().plot.pie(labels=['No Survived', 'Survived'], autopct = '%1.2f%%')  \n",
    "plt.xlabel('no_parch') \n",
    " \n",
    "plt.show()  "
   ]
  },
  {
   "cell_type": "markdown",
   "metadata": {},
   "source": [
    "同样，有亲人陪同的生存概率会更大一些。"
   ]
  },
  {
   "cell_type": "markdown",
   "metadata": {},
   "source": [
    "### 7 亲友的人数与存活的关系 SibSp&Parch"
   ]
  },
  {
   "cell_type": "code",
   "execution_count": 19,
   "metadata": {},
   "outputs": [
    {
     "data": {
      "text/plain": [
       "<Figure size 432x288 with 0 Axes>"
      ]
     },
     "metadata": {},
     "output_type": "display_data"
    },
    {
     "data": {
      "image/png": "[encoded data removed]",
      "text/plain": [
       "<Figure size 432x288 with 1 Axes>"
      ]
     },
     "metadata": {
      "needs_background": "light"
     },
     "output_type": "display_data"
    }
   ],
   "source": [
    "train_data['Family_Size'] = train_data['Parch'] + train_data['SibSp']+1  # 计算家庭成员\n",
    "plt.figure()\n",
    "train_data[['Family_Size','Survived']].groupby(['Family_Size']).mean().plot.bar()\n",
    "plt.show()"
   ]
  },
  {
   "cell_type": "markdown",
   "metadata": {},
   "source": [
    "从图表中可以看出，若独自一人，那么其存活率比较低；但是如果亲友太多的话，存活率也会很低。"
   ]
  },
  {
   "cell_type": "markdown",
   "metadata": {},
   "source": [
    "### 8 票价分布与存活的关系 Fare"
   ]
  },
  {
   "cell_type": "code",
   "execution_count": 20,
   "metadata": {},
   "outputs": [
    {
     "data": {
      "image/png": "[encoded data removed]",
      "text/plain": [
       "<Figure size 432x288 with 1 Axes>"
      ]
     },
     "metadata": {
      "needs_background": "light"
     },
     "output_type": "display_data"
    }
   ],
   "source": [
    "# 先来看下票价的分布情况\n",
    "plt.figure()\n",
    "sns.distplot(train_data['Fare'])\n",
    "plt.show()"
   ]
  },
  {
   "cell_type": "code",
   "execution_count": 21,
   "metadata": {},
   "outputs": [
    {
     "data": {
      "image/png": "[encoded data removed]",
      "text/plain": [
       "<Figure size 432x288 with 1 Axes>"
      ]
     },
     "metadata": {
      "needs_background": "light"
     },
     "output_type": "display_data"
    }
   ],
   "source": [
    "# 简单将票价分为低价和高价票看下，以50作为分割点\n",
    "train_data['Fare_group'] = pd.cut(train_data['Fare'], [-1, 50, 1000])\n",
    "fare_survive = train_data.groupby(['Fare_group'])['Survived'].mean()\n",
    "plt.figure()\n",
    "fare_survive.plot.bar()\n",
    "plt.show()"
   ]
  },
  {
   "cell_type": "markdown",
   "metadata": {},
   "source": [
    "由上图表可知，票价与是否生还有一定的相关性，生还者的平均票价要大于未生还者的平均票价。"
   ]
  },
  {
   "cell_type": "markdown",
   "metadata": {},
   "source": [
    "### 9 港口和存活与否的关系 Embarked\n",
    "泰坦尼克号从英国的南安普顿港出发，途径法国瑟堡和爱尔兰昆士敦，那么在昆士敦之前上船的人，有可能在瑟堡或昆士敦下船，这些人将不会遇到海难。"
   ]
  },
  {
   "cell_type": "code",
   "execution_count": 22,
   "metadata": {},
   "outputs": [
    {
     "data": {
      "image/png": "[encoded data removed]",
      "text/plain": [
       "<Figure size 432x288 with 1 Axes>"
      ]
     },
     "metadata": {
      "needs_background": "light"
     },
     "output_type": "display_data"
    }
   ],
   "source": [
    "plt.figure()\n",
    "sns.countplot('Embarked',hue='Survived',data=train_data)\n",
    "plt.title('Embarked and Survived')\n",
    "plt.show()"
   ]
  },
  {
   "cell_type": "markdown",
   "metadata": {},
   "source": [
    "由上可以看出，在不同的港口上船，生还率不同，C最高，Q次之，S最低。"
   ]
  },
  {
   "cell_type": "markdown",
   "metadata": {},
   "source": [
    "### 10 其他与存活有关的特征\n",
    "对于数据集中没有给出的特征信息，我们还可以联想其他可能会对模型产生影响的特征因素。如：乘客的国籍、乘客的身高、乘客的体重、乘客是否会游泳、乘客职业等等。\n",
    "\n",
    "从这里你也可以了解到，所谓的机器学习来训练模型，实际可以尽可能发挥想象力，利用你任何想象的到的数据，利用任何和因变量有关的特征，所有的可能性你都可以加进来尝试，最终用模型的结果来证明的的想象；某种程度上来说，这是一份极其自由，极其有趣又富有艺术感的工作呢。"
   ]
  },
  {
   "cell_type": "markdown",
   "metadata": {},
   "source": [
    "## 1.6 特征工程\n",
    "通过上面的分析，我相信你已经对数据的大体结构有一定的认识了，也对变量间的关系有所了解，接下就让我们开始特征工程吧。"
   ]
  },
  {
   "cell_type": "markdown",
   "metadata": {},
   "source": [
    "在进行特征工程的时候，我们不仅需要对训练数据进行处理，还需要同时将测试数据同训练数据一起处理，使得二者具有相同的数据类型和数据分布。"
   ]
  },
  {
   "cell_type": "code",
   "execution_count": 23,
   "metadata": {},
   "outputs": [
    {
     "data": {
      "text/plain": [
       "(1309, 12)"
      ]
     },
     "execution_count": 23,
     "metadata": {},
     "output_type": "execute_result"
    }
   ],
   "source": [
    "# 重新载入数据，合并数据集\n",
    "train_df_org = pd.read_csv('./material/titanic_train.csv')\n",
    "test_df_org = pd.read_csv('./material/titanic_test.csv')\n",
    "test_df_org['Survived'] = 0\n",
    "combined_train_test = train_df_org.append(test_df_org)   #891+418=1309rows, 12columns\n",
    "combined_train_test.shape"
   ]
  },
  {
   "cell_type": "markdown",
   "metadata": {},
   "source": [
    "对数据进行特征工程，也就是从各项参数中提取出对输出结果有或大或小的影响的特征，将这些特征作为训练模型的依据。一般来说，我们会先从含有缺失值的特征开始。"
   ]
  },
  {
   "cell_type": "markdown",
   "metadata": {},
   "source": [
    "### 1. Embarked"
   ]
  },
  {
   "cell_type": "code",
   "execution_count": 24,
   "metadata": {},
   "outputs": [
    {
     "data": {
      "text/plain": [
       "0    S\n",
       "1    C\n",
       "2    S\n",
       "3    S\n",
       "4    S\n",
       "Name: Embarked, dtype: object"
      ]
     },
     "execution_count": 24,
     "metadata": {},
     "output_type": "execute_result"
    }
   ],
   "source": [
    "# 与之前相同，用众数来填充缺失\n",
    "combined_train_test['Embarked'].fillna(combined_train_test['Embarked'].mode().iloc[0],inplace=True)\n",
    "combined_train_test['Embarked'].head()"
   ]
  },
  {
   "cell_type": "markdown",
   "metadata": {},
   "source": [
    "我们看到Embarked是用字母来表示的，电脑无法直接对字母进行训练，需要先将其映射为数字，同时它是类别变量，我们需要对其进行哑变量编码"
   ]
  },
  {
   "cell_type": "code",
   "execution_count": 25,
   "metadata": {},
   "outputs": [
    {
     "name": "stdout",
     "output_type": "stream",
     "text": [
      "0    0\n",
      "1    1\n",
      "2    0\n",
      "3    0\n",
      "4    0\n",
      "5    2\n",
      "6    0\n",
      "Name: Embarked, dtype: int64\n"
     ]
    }
   ],
   "source": [
    "#为了后面的特征分析，这里我们将Embarked特征进行factorizing，映射为数字\n",
    "combined_train_test['Embarked'] = pd.factorize(combined_train_test['Embarked'])[0]\n",
    "print(combined_train_test['Embarked'].head(7))"
   ]
  },
  {
   "cell_type": "code",
   "execution_count": 26,
   "metadata": {},
   "outputs": [
    {
     "name": "stdout",
     "output_type": "stream",
     "text": [
      "   Embarked_0  Embarked_1  Embarked_2\n",
      "0           1           0           0\n",
      "1           0           1           0\n",
      "2           1           0           0\n",
      "3           1           0           0\n",
      "4           1           0           0\n"
     ]
    }
   ],
   "source": [
    "# 使用pd.get_dummies获取one-hot编码哑变量编码；\n",
    "# 在类别特征中，0、1、2实际并没有大小比较的含义，将其进行哑变量编码，表示类别之一，对机器学习来说，这种描述更加精准\n",
    "emb_dummies_df = pd.get_dummies(combined_train_test['Embarked'],prefix=combined_train_test[['Embarked']].columns[0])\n",
    "print(emb_dummies_df.head())\n",
    "combined_train_test = pd.concat([combined_train_test, emb_dummies_df], axis=1)  # 合并"
   ]
  },
  {
   "cell_type": "markdown",
   "metadata": {},
   "source": [
    "### 2. Sex\n",
    "sex一样需要one-hot编码，也就是dummy处理："
   ]
  },
  {
   "cell_type": "code",
   "execution_count": 27,
   "metadata": {},
   "outputs": [],
   "source": [
    "# 为了后面的特征分析，这里我们也将Sex特征进行factorizing\n",
    "combined_train_test['Sex'] = pd.factorize(combined_train_test['Sex'])[0]\n",
    " \n",
    "sex_dummies_df = pd.get_dummies(combined_train_test['Sex'],prefix=combined_train_test[['Sex']].columns[0])\n",
    "combined_train_test = pd.concat([combined_train_test,sex_dummies_df],axis=1)"
   ]
  },
  {
   "cell_type": "markdown",
   "metadata": {},
   "source": [
    "### 3. Name\n",
    "名称中提取称呼"
   ]
  },
  {
   "cell_type": "code",
   "execution_count": 28,
   "metadata": {},
   "outputs": [],
   "source": [
    "combined_train_test['Title'] = combined_train_test['Name'].map(lambda x: re.compile(\",(.*?)\\.\").findall(x)[0])\n",
    "combined_train_test['Title'] = combined_train_test['Title'].apply(lambda x:x.strip())"
   ]
  },
  {
   "cell_type": "code",
   "execution_count": 29,
   "metadata": {},
   "outputs": [
    {
     "data": {
      "text/plain": [
       "0      Mr\n",
       "1     Mrs\n",
       "2    Miss\n",
       "3     Mrs\n",
       "4      Mr\n",
       "Name: Title, dtype: object"
      ]
     },
     "execution_count": 29,
     "metadata": {},
     "output_type": "execute_result"
    }
   ],
   "source": [
    "# 对各式称呼进行格式化，将相同类型的称谓归为同一类\n",
    "title_Dict = {}\n",
    "title_Dict.update(dict.fromkeys(['Capt','Col','Major','Dr','Rev'],'Officer'))\n",
    "title_Dict.update(dict.fromkeys(['Don','Sir','the Countess','Dona','Lady'],'Royalty'))\n",
    "title_Dict.update(dict.fromkeys(['Mme','Ms','Mrs'],'Mrs'))\n",
    "title_Dict.update(dict.fromkeys(['Male','Miss'],'Miss'))\n",
    "title_Dict.update(dict.fromkeys(['Mr'],'Mr'))\n",
    "title_Dict.update(dict.fromkeys(['Master','Jonkheer'],'Master'))\n",
    " \n",
    "combined_train_test['Title'] = combined_train_test['Title'].map(title_Dict)\n",
    "combined_train_test['Title'].head()"
   ]
  },
  {
   "cell_type": "code",
   "execution_count": 30,
   "metadata": {},
   "outputs": [],
   "source": [
    "# 依旧对称呼进行dummy操作\n",
    "combined_train_test['Title'] = pd.factorize(combined_train_test['Title'])[0]\n",
    "title_dummies_df = pd.get_dummies(combined_train_test['Title'],prefix=combined_train_test[['Title']].columns[0])\n",
    "combined_train_test = pd.concat([combined_train_test,title_dummies_df],axis=1)"
   ]
  },
  {
   "cell_type": "markdown",
   "metadata": {},
   "source": [
    "### 4. Fare\n",
    "由前面分析可以知道，Fare项在测试数据中缺少一个值，所以需要对该值进行填充。我们按照一二三等舱各自的均价来填充：\n",
    "\n",
    "下面transform将函数np.mean应用到各个group中。"
   ]
  },
  {
   "cell_type": "code",
   "execution_count": 31,
   "metadata": {},
   "outputs": [],
   "source": [
    "combined_train_test['Fare'] = combined_train_test[['Fare']].fillna(combined_train_test.groupby('Pclass').transform(np.mean))\n",
    "# 给票按价格分等级，使用qcut使每个等级的人数相当\n",
    "combined_train_test['Fare_bin'] = pd.qcut(combined_train_test['Fare'],5)\n",
    "combined_train_test['Fare_bin_id'] = pd.factorize(combined_train_test['Fare_bin'])[0]\n",
    " \n",
    "fare_bin_dummies_df = pd.get_dummies(combined_train_test['Fare_bin_id']).rename(columns=lambda x: 'Fare_' + str(x))\n",
    "combined_train_test = pd.concat([combined_train_test,fare_bin_dummies_df],axis=1)\n",
    "combined_train_test.drop(['Fare_bin'],axis=1, inplace=True)"
   ]
  },
  {
   "cell_type": "markdown",
   "metadata": {},
   "source": [
    "### 5. Pclass\n",
    "Pclass直接保留不做操作"
   ]
  },
  {
   "cell_type": "markdown",
   "metadata": {},
   "source": [
    "### 6. Parch and SibSp\n",
    "由前面的分析，我们可以知道，亲友的数量没有或者太多会影响到Survived。所以将二者合并为FamliySize这一组合项，同时也保留这两项。"
   ]
  },
  {
   "cell_type": "code",
   "execution_count": 32,
   "metadata": {},
   "outputs": [],
   "source": [
    "combined_train_test['Family_Size'] = combined_train_test['Parch'] + combined_train_test['SibSp'] + 1  # 计算家庭大小"
   ]
  },
  {
   "cell_type": "markdown",
   "metadata": {},
   "source": [
    "### 7. Age\n",
    "Age的填充与之前一样，有其他数据训练来对缺失Age做预测"
   ]
  },
  {
   "cell_type": "code",
   "execution_count": 33,
   "metadata": {},
   "outputs": [
    {
     "data": {
      "text/html": [
       "<div>\n",
       "<style scoped>\n",
       "    .dataframe tbody tr th:only-of-type {\n",
       "        vertical-align: middle;\n",
       "    }\n",
       "\n",
       "    .dataframe tbody tr th {\n",
       "        vertical-align: top;\n",
       "    }\n",
       "\n",
       "    .dataframe thead th {\n",
       "        text-align: right;\n",
       "    }\n",
       "</style>\n",
       "<table border=\"1\" class=\"dataframe\">\n",
       "  <thead>\n",
       "    <tr style=\"text-align: right;\">\n",
       "      <th></th>\n",
       "      <th>Age</th>\n",
       "      <th>Embarked</th>\n",
       "      <th>Sex</th>\n",
       "      <th>Title</th>\n",
       "      <th>Family_Size</th>\n",
       "      <th>Fare</th>\n",
       "      <th>Fare_bin_id</th>\n",
       "      <th>Pclass</th>\n",
       "    </tr>\n",
       "  </thead>\n",
       "  <tbody>\n",
       "    <tr>\n",
       "      <th>0</th>\n",
       "      <td>22.0</td>\n",
       "      <td>0</td>\n",
       "      <td>0</td>\n",
       "      <td>0</td>\n",
       "      <td>2</td>\n",
       "      <td>7.2500</td>\n",
       "      <td>0</td>\n",
       "      <td>3</td>\n",
       "    </tr>\n",
       "    <tr>\n",
       "      <th>1</th>\n",
       "      <td>38.0</td>\n",
       "      <td>1</td>\n",
       "      <td>1</td>\n",
       "      <td>1</td>\n",
       "      <td>2</td>\n",
       "      <td>71.2833</td>\n",
       "      <td>1</td>\n",
       "      <td>1</td>\n",
       "    </tr>\n",
       "    <tr>\n",
       "      <th>2</th>\n",
       "      <td>26.0</td>\n",
       "      <td>0</td>\n",
       "      <td>1</td>\n",
       "      <td>2</td>\n",
       "      <td>1</td>\n",
       "      <td>7.9250</td>\n",
       "      <td>2</td>\n",
       "      <td>3</td>\n",
       "    </tr>\n",
       "    <tr>\n",
       "      <th>3</th>\n",
       "      <td>35.0</td>\n",
       "      <td>0</td>\n",
       "      <td>1</td>\n",
       "      <td>1</td>\n",
       "      <td>2</td>\n",
       "      <td>53.1000</td>\n",
       "      <td>1</td>\n",
       "      <td>1</td>\n",
       "    </tr>\n",
       "    <tr>\n",
       "      <th>4</th>\n",
       "      <td>35.0</td>\n",
       "      <td>0</td>\n",
       "      <td>0</td>\n",
       "      <td>0</td>\n",
       "      <td>1</td>\n",
       "      <td>8.0500</td>\n",
       "      <td>2</td>\n",
       "      <td>3</td>\n",
       "    </tr>\n",
       "  </tbody>\n",
       "</table>\n",
       "</div>"
      ],
      "text/plain": [
       "    Age  Embarked  Sex  Title  Family_Size     Fare  Fare_bin_id  Pclass\n",
       "0  22.0         0    0      0            2   7.2500            0       3\n",
       "1  38.0         1    1      1            2  71.2833            1       1\n",
       "2  26.0         0    1      2            1   7.9250            2       3\n",
       "3  35.0         0    1      1            2  53.1000            1       1\n",
       "4  35.0         0    0      0            1   8.0500            2       3"
      ]
     },
     "execution_count": 33,
     "metadata": {},
     "output_type": "execute_result"
    }
   ],
   "source": [
    "missing_age_df = pd.DataFrame(combined_train_test[\n",
    "    ['Age', 'Embarked', 'Sex', 'Title', 'Family_Size', 'Fare', 'Fare_bin_id', 'Pclass']])\n",
    "\n",
    "missing_age_train = missing_age_df[missing_age_df['Age'].notnull()]\n",
    "missing_age_test = missing_age_df[missing_age_df['Age'].isnull()]\n",
    "\n",
    "missing_age_train.head()"
   ]
  },
  {
   "cell_type": "code",
   "execution_count": 34,
   "metadata": {},
   "outputs": [
    {
     "name": "stdout",
     "output_type": "stream",
     "text": [
      "<class 'pandas.core.frame.DataFrame'>\n",
      "Int64Index: 1309 entries, 0 to 417\n",
      "Data columns (total 32 columns):\n",
      "Age            1309 non-null int32\n",
      "Cabin          295 non-null object\n",
      "Embarked       1309 non-null int64\n",
      "Fare           1309 non-null float64\n",
      "Name           1309 non-null object\n",
      "Parch          1309 non-null int64\n",
      "PassengerId    1309 non-null int64\n",
      "Pclass         1309 non-null int64\n",
      "Sex            1309 non-null int64\n",
      "SibSp          1309 non-null int64\n",
      "Survived       1309 non-null int64\n",
      "Ticket         1309 non-null object\n",
      "Embarked_0     1309 non-null uint8\n",
      "Embarked_1     1309 non-null uint8\n",
      "Embarked_2     1309 non-null uint8\n",
      "Sex_0          1309 non-null uint8\n",
      "Sex_1          1309 non-null uint8\n",
      "Title          1309 non-null int64\n",
      "Title_-1       1309 non-null uint8\n",
      "Title_0        1309 non-null uint8\n",
      "Title_1        1309 non-null uint8\n",
      "Title_2        1309 non-null uint8\n",
      "Title_3        1309 non-null uint8\n",
      "Title_4        1309 non-null uint8\n",
      "Title_5        1309 non-null uint8\n",
      "Fare_bin_id    1309 non-null int64\n",
      "Fare_0         1309 non-null uint8\n",
      "Fare_1         1309 non-null uint8\n",
      "Fare_2         1309 non-null uint8\n",
      "Fare_3         1309 non-null uint8\n",
      "Fare_4         1309 non-null uint8\n",
      "Family_Size    1309 non-null int64\n",
      "dtypes: float64(1), int32(1), int64(10), object(3), uint8(17)\n",
      "memory usage: 180.2+ KB\n"
     ]
    }
   ],
   "source": [
    "from sklearn.ensemble import RandomForestRegressor\n",
    "X = missing_age_train.values[:,1:]  # 其他数据作为输入特征X\n",
    "Y = missing_age_train.values[:,0]  # Age作为标签y\n",
    "# use RandomForestRegression to train data\n",
    "RFR = RandomForestRegressor(n_estimators=1000)  # 新建随机深林模型，n_estimators选择1000课树，\n",
    "RFR.fit(X,Y)  # 进行训练\n",
    "predictAges = RFR.predict(missing_age_test.values[:,1:])  # 对缺失的部分进行预测\n",
    "\n",
    "combined_train_test.loc[combined_train_test['Age'].isnull(), ['Age']] = predictAges  # 对缺失的数据列进行填补\n",
    "combined_train_test['Age'] = combined_train_test['Age'].astype(int)\n",
    "combined_train_test.info()"
   ]
  },
  {
   "cell_type": "code",
   "execution_count": 35,
   "metadata": {},
   "outputs": [],
   "source": [
    "# 将年龄分组\n",
    "bins = [-1, 12, 18, 40, 100]\n",
    "combined_train_test['Age_group'] = pd.cut(combined_train_test['Age'], bins)"
   ]
  },
  {
   "cell_type": "markdown",
   "metadata": {},
   "source": [
    "### 8. Cabin\n",
    "因为Cabin项的缺失值确实太多了，我们很难对其进行分析，或者预测。所以这里我们可以直接将Cabin这一项特征去除。但通过上面的分析，可以知道，该特征信息的有无可能也与生存率有一定的关系，所以这里我们暂时保留该特征，只将其分为有和无两类。"
   ]
  },
  {
   "cell_type": "code",
   "execution_count": 36,
   "metadata": {},
   "outputs": [],
   "source": [
    "combined_train_test.loc[combined_train_test.Cabin.isnull(), 'Cabin'] = 'U0'\n",
    "combined_train_test['Cabin'] = combined_train_test['Cabin'].apply(lambda x: 0 if x == 'U0' else 1)"
   ]
  },
  {
   "cell_type": "markdown",
   "metadata": {},
   "source": [
    "### 9. 特征间相关性分析\n",
    "我们挑选一些主要的特征，生成特征之间的关联热图，可以查看特征与特征之间的相关性："
   ]
  },
  {
   "cell_type": "code",
   "execution_count": 37,
   "metadata": {},
   "outputs": [],
   "source": [
    "Correlation = pd.DataFrame(combined_train_test[['Embarked','Sex','Title','Family_Size', 'Fare','Fare_bin_id','Pclass','Age','Cabin']])"
   ]
  },
  {
   "cell_type": "code",
   "execution_count": 38,
   "metadata": {},
   "outputs": [
    {
     "data": {
      "image/png": "[encoded data removed]",
      "text/plain": [
       "<Figure size 1008x864 with 2 Axes>"
      ]
     },
     "metadata": {
      "needs_background": "light"
     },
     "output_type": "display_data"
    }
   ],
   "source": [
    "colormap = plt.cm.viridis  # 颜色风格映射\n",
    "plt.figure(figsize=(14,12))  # 皮尔逊系数\n",
    "plt.title('Pearson Correaltion of Feature',y=1.05,size=15)\n",
    "corr = Correlation.astype(float).corr()\n",
    "sns.heatmap(corr,linewidths=0.1,vmax=1.0,square=True, cmap=colormap,linecolor='white',annot=True)\n",
    "plt.show()"
   ]
  },
  {
   "cell_type": "markdown",
   "metadata": {},
   "source": [
    "相关性热图可以清晰看到变量之间的相关性，相关性的值越大，证明两个变量包含的信息越重复，一般我们只会保留一个，这样可以减少模型过拟合的风险。"
   ]
  },
  {
   "cell_type": "markdown",
   "metadata": {},
   "source": [
    "## 1.7 建立模型\n",
    "在建立模型之前，我们要先提取需要的特征，剔除不要的特征，将训练数据和测试数据分割开"
   ]
  },
  {
   "cell_type": "code",
   "execution_count": 39,
   "metadata": {},
   "outputs": [],
   "source": [
    "# 将训练数据和测试数据分割开\n",
    "train_data = combined_train_test[:891]\n",
    "test_data = combined_train_test[891:]\n",
    "# 我们这里测试集的数据没有准备标签，所以不能验证测试集的预测结果，所以还是只能对训练集切分；后面可以尝试把测试集也预测一下，提交到kaggle获取准确度和排名\n",
    "data = train_data\n",
    "remove_feature = ['Survived', 'Cabin', 'Name', 'Ticket', 'PassengerId', 'Age_group']\n",
    "X = data[[feature for feature in data.columns if feature not in remove_feature]]\n",
    "y = data['Survived']"
   ]
  },
  {
   "cell_type": "code",
   "execution_count": 40,
   "metadata": {},
   "outputs": [
    {
     "name": "stdout",
     "output_type": "stream",
     "text": [
      "(891, 27) \n",
      "\n",
      "<class 'pandas.core.frame.DataFrame'>\n",
      "Int64Index: 891 entries, 0 to 890\n",
      "Data columns (total 27 columns):\n",
      "Age            891 non-null int32\n",
      "Embarked       891 non-null int64\n",
      "Fare           891 non-null float64\n",
      "Parch          891 non-null int64\n",
      "Pclass         891 non-null int64\n",
      "Sex            891 non-null int64\n",
      "SibSp          891 non-null int64\n",
      "Embarked_0     891 non-null uint8\n",
      "Embarked_1     891 non-null uint8\n",
      "Embarked_2     891 non-null uint8\n",
      "Sex_0          891 non-null uint8\n",
      "Sex_1          891 non-null uint8\n",
      "Title          891 non-null int64\n",
      "Title_-1       891 non-null uint8\n",
      "Title_0        891 non-null uint8\n",
      "Title_1        891 non-null uint8\n",
      "Title_2        891 non-null uint8\n",
      "Title_3        891 non-null uint8\n",
      "Title_4        891 non-null uint8\n",
      "Title_5        891 non-null uint8\n",
      "Fare_bin_id    891 non-null int64\n",
      "Fare_0         891 non-null uint8\n",
      "Fare_1         891 non-null uint8\n",
      "Fare_2         891 non-null uint8\n",
      "Fare_3         891 non-null uint8\n",
      "Fare_4         891 non-null uint8\n",
      "Family_Size    891 non-null int64\n",
      "dtypes: float64(1), int32(1), int64(8), uint8(17)\n",
      "memory usage: 87.9 KB\n",
      "None\n"
     ]
    }
   ],
   "source": [
    "print(X.shape, '\\n')\n",
    "print(X.info())"
   ]
  },
  {
   "cell_type": "code",
   "execution_count": 41,
   "metadata": {},
   "outputs": [
    {
     "name": "stdout",
     "output_type": "stream",
     "text": [
      "训练集特征shape： (623, 27)\n",
      "训练集标签shape： (623,)\n",
      "测试集特征shape： (268, 27)\n",
      "测试集标签shape： (268,)\n"
     ]
    }
   ],
   "source": [
    "from sklearn.model_selection import train_test_split  # 用于训练集和测试集分割的方法\n",
    "\n",
    "X_train, X_test, y_train, y_test = train_test_split(X, y, test_size=0.3, random_state=0)\n",
    "print('训练集特征shape：',X_train.shape)\n",
    "print('训练集标签shape：',y_train.shape)\n",
    "print('测试集特征shape：',X_test.shape)\n",
    "print('测试集标签shape：',y_test.shape)"
   ]
  },
  {
   "cell_type": "markdown",
   "metadata": {},
   "source": [
    "### 现在我们可以开始建模\n",
    "直接使用随机森林了，后续可以自己试试逻辑回归和xgboost的效果"
   ]
  },
  {
   "cell_type": "code",
   "execution_count": 42,
   "metadata": {},
   "outputs": [],
   "source": [
    "from sklearn.ensemble import RandomForestClassifier  # 导入随机森林模型，处理分类问题\n",
    "\n",
    "# 通过改动输入参数的不同可以手动调参，也有网格调参等很多自动调参的方式\n",
    "rf_param = {\n",
    "    'n_estimators': 1000,  # 树的数量\n",
    "    'max_depth': 8, # 树的最大深度\n",
    "    'max_features': 20  # 随机森林允许单个决策树使用特征的最大数量。\n",
    "}\n",
    "\n",
    "model = RandomForestClassifier(**rf_param)  # 新建随机深林模型，n_estimators选择1000课树，\n",
    "model.fit(X_train, y_train)  # 进行训练\n",
    "prediction = model.predict(X_test)  # 对缺失的部分进行预测\n",
    "result = pd.DataFrame({\n",
    "    'real': y_test,\n",
    "    'pre': prediction\n",
    "})"
   ]
  },
  {
   "cell_type": "code",
   "execution_count": 43,
   "metadata": {},
   "outputs": [
    {
     "name": "stdout",
     "output_type": "stream",
     "text": [
      "auc： 0.819404761904762\n"
     ]
    },
    {
     "data": {
      "text/html": [
       "<div>\n",
       "<style scoped>\n",
       "    .dataframe tbody tr th:only-of-type {\n",
       "        vertical-align: middle;\n",
       "    }\n",
       "\n",
       "    .dataframe tbody tr th {\n",
       "        vertical-align: top;\n",
       "    }\n",
       "\n",
       "    .dataframe thead th {\n",
       "        text-align: right;\n",
       "    }\n",
       "</style>\n",
       "<table border=\"1\" class=\"dataframe\">\n",
       "  <thead>\n",
       "    <tr style=\"text-align: right;\">\n",
       "      <th></th>\n",
       "      <th>real</th>\n",
       "      <th>pre</th>\n",
       "    </tr>\n",
       "  </thead>\n",
       "  <tbody>\n",
       "    <tr>\n",
       "      <th>495</th>\n",
       "      <td>0</td>\n",
       "      <td>0</td>\n",
       "    </tr>\n",
       "    <tr>\n",
       "      <th>648</th>\n",
       "      <td>0</td>\n",
       "      <td>0</td>\n",
       "    </tr>\n",
       "    <tr>\n",
       "      <th>278</th>\n",
       "      <td>0</td>\n",
       "      <td>0</td>\n",
       "    </tr>\n",
       "    <tr>\n",
       "      <th>31</th>\n",
       "      <td>1</td>\n",
       "      <td>1</td>\n",
       "    </tr>\n",
       "    <tr>\n",
       "      <th>255</th>\n",
       "      <td>1</td>\n",
       "      <td>0</td>\n",
       "    </tr>\n",
       "    <tr>\n",
       "      <th>298</th>\n",
       "      <td>1</td>\n",
       "      <td>0</td>\n",
       "    </tr>\n",
       "    <tr>\n",
       "      <th>609</th>\n",
       "      <td>1</td>\n",
       "      <td>1</td>\n",
       "    </tr>\n",
       "    <tr>\n",
       "      <th>318</th>\n",
       "      <td>1</td>\n",
       "      <td>1</td>\n",
       "    </tr>\n",
       "    <tr>\n",
       "      <th>484</th>\n",
       "      <td>1</td>\n",
       "      <td>1</td>\n",
       "    </tr>\n",
       "    <tr>\n",
       "      <th>367</th>\n",
       "      <td>1</td>\n",
       "      <td>1</td>\n",
       "    </tr>\n",
       "  </tbody>\n",
       "</table>\n",
       "</div>"
      ],
      "text/plain": [
       "     real  pre\n",
       "495     0    0\n",
       "648     0    0\n",
       "278     0    0\n",
       "31      1    1\n",
       "255     1    0\n",
       "298     1    0\n",
       "609     1    1\n",
       "318     1    1\n",
       "484     1    1\n",
       "367     1    1"
      ]
     },
     "execution_count": 43,
     "metadata": {},
     "output_type": "execute_result"
    }
   ],
   "source": [
    "from sklearn.metrics import roc_auc_score  # 导入计算auc值的函数\n",
    "auc = roc_auc_score(result['real'], result['pre'])\n",
    "print('auc：', auc)  # auc值是分类模型中最常用的评价指标，是同时考虑了准确率与召回率的指标，在0~1之间，越接近1证明模型准确率越高\n",
    "result.head(10)"
   ]
  },
  {
   "cell_type": "markdown",
   "metadata": {},
   "source": [
    "## 数据特征重要性\n",
    "基于树的模型的另一个好处，就是可以自动将特征的贡献度输出出来，让我们了解各个特征的重要性。"
   ]
  },
  {
   "cell_type": "code",
   "execution_count": 44,
   "metadata": {},
   "outputs": [
    {
     "data": {
      "image/png": "[encoded data removed]",
      "text/plain": [
       "<Figure size 1008x576 with 1 Axes>"
      ]
     },
     "metadata": {
      "needs_background": "light"
     },
     "output_type": "display_data"
    }
   ],
   "source": [
    "plt.figure(figsize=(14, 8))\n",
    "importance = model.feature_importances_\n",
    "s_importance = pd.Series(index=X_train.columns, data=importance)\n",
    "s_importance = s_importance.sort_values(ascending=True)\n",
    "s_importance.plot.barh()\n",
    "plt.tight_layout()\n",
    "plt.show()"
   ]
  },
  {
   "cell_type": "markdown",
   "metadata": {},
   "source": [
    "从这上面看出，头衔类别、年龄、船票价格、家庭成员多少，是对模型训练比较重要的特征。"
   ]
  },
  {
   "cell_type": "markdown",
   "metadata": {},
   "source": [
    "## 1.8 学习曲线（交叉验证）\n",
    "接下来我们来看下学习曲线，顾名思义，学习曲线就是记录我们模型从无到有，模型训练过程的曲线。从学习曲线中，我们很容易可以看出误差是如何下降的，拟合状态又是如何等模型信息。"
   ]
  },
  {
   "cell_type": "code",
   "execution_count": 45,
   "metadata": {},
   "outputs": [
    {
     "data": {
      "image/png": "[encoded data removed]",
      "text/plain": [
       "<Figure size 432x288 with 1 Axes>"
      ]
     },
     "metadata": {
      "needs_background": "light"
     },
     "output_type": "display_data"
    }
   ],
   "source": [
    "from sklearn.model_selection import learning_curve  # 导入学习曲线，检测学习状态\n",
    "# 学习曲线其实是交叉验证的过程，每次会随机选择一部分数据作为训练集，剩下为测试集，轮流进行预测训练，减少偶然性，这样得到的结果更加准确可信\n",
    "train_sizes, train_loss, test_loss = learning_curve(model, X_train, y_train, cv=5, \n",
    "                                                    train_sizes=[0.1, 0.25, 0.5, 0.75, 1])\n",
    "train_loss_mean = np.mean(train_loss, axis=1)\n",
    "test_loss_mean = np.mean(test_loss, axis=1)\n",
    "# 学习曲线可视化\n",
    "plt.plot(train_sizes, train_loss_mean, 'o-', color='r', label=\"Trainning\")\n",
    "plt.plot(train_sizes, test_loss_mean, 'o-', color='g', label='Cross-validation')\n",
    "plt.xlabel(\"Training examplt\")\n",
    "plt.ylabel('Accuracy')\n",
    "plt.legend(loc='best')\n",
    "plt.show()"
   ]
  },
  {
   "cell_type": "markdown",
   "metadata": {},
   "source": [
    "如图我们看有两条线，红线代表模型拟合训练集数据的准确率，绿线代表模型在测试集上的表现结果，可以看到两点：\n",
    "* 绿线的准确随着模型训练样本的增多由逐渐增大，当达到一定程度时就不再增加了；\n",
    "* 红线的准确率有95%，但在测试集上准确率却只有80%，其实这就是一种过拟合的表现了"
   ]
  },
  {
   "cell_type": "markdown",
   "metadata": {},
   "source": [
    "## save&load\n",
    "其实到这里，我们已经算是把一个简单的模型训练好了，那我们如何在实际生产中使用载入我们的模型呢？其实很简单，保存模型，使用时在load就可以了。\n",
    "我们可以利用joblib模块进行模型的读写。"
   ]
  },
  {
   "cell_type": "code",
   "execution_count": 46,
   "metadata": {},
   "outputs": [
    {
     "data": {
      "text/plain": [
       "['./first_model.joblib']"
      ]
     },
     "execution_count": 46,
     "metadata": {},
     "output_type": "execute_result"
    }
   ],
   "source": [
    "from sklearn.externals import joblib  # 导入joblib模块\n",
    "# 保存模型\n",
    "joblib.dump(model, './first_model.joblib')"
   ]
  },
  {
   "cell_type": "code",
   "execution_count": 47,
   "metadata": {},
   "outputs": [
    {
     "name": "stdout",
     "output_type": "stream",
     "text": [
      "RandomForestClassifier(bootstrap=True, class_weight=None, criterion='gini',\n",
      "            max_depth=8, max_features=20, max_leaf_nodes=None,\n",
      "            min_impurity_decrease=0.0, min_impurity_split=None,\n",
      "            min_samples_leaf=1, min_samples_split=2,\n",
      "            min_weight_fraction_leaf=0.0, n_estimators=1000, n_jobs=None,\n",
      "            oob_score=False, random_state=None, verbose=0,\n",
      "            warm_start=False)\n"
     ]
    }
   ],
   "source": [
    "# load并用模型预测\n",
    "model_1 = joblib.load('./first_model.joblib')\n",
    "print(model_1)"
   ]
  },
  {
   "cell_type": "code",
   "execution_count": 48,
   "metadata": {},
   "outputs": [
    {
     "data": {
      "text/plain": [
       "array([0, 0, 0, 1, 0, 0, 1, 1, 1, 1, 0, 1, 0, 1, 1, 1, 0, 0, 0, 1, 0, 1,\n",
       "       0, 0, 1, 1, 0, 1, 1, 0, 0, 1, 0, 0, 0, 0, 0, 0, 0, 0, 0, 0, 0, 0,\n",
       "       1, 0, 0, 1, 0, 0, 0, 0, 1, 0, 0, 0, 0, 0, 0, 0, 0, 0, 1, 1, 1, 0,\n",
       "       1, 0, 1, 1, 1, 0, 0, 0, 0, 1, 0, 1, 0, 0, 0, 1, 1, 0, 0, 1, 1, 0,\n",
       "       1, 0, 0, 0, 1, 1, 0, 0, 1, 0, 0, 0, 0, 0, 0, 0, 0, 1, 1, 0, 0, 1,\n",
       "       0, 1, 1, 0, 0, 1, 1, 1, 0, 1, 0, 0, 0, 1, 0, 0, 0, 0, 0, 0, 1, 0,\n",
       "       0, 0, 0, 0, 0, 0, 0, 0, 0, 1, 0, 1, 1, 0, 0, 1, 1, 0, 0, 0, 0, 0,\n",
       "       1, 0, 0, 0, 1, 1, 0, 0, 1, 0, 0, 0, 0, 0, 0, 0, 0, 1, 0, 0, 1, 0,\n",
       "       1, 0, 0, 1, 0, 0, 0, 0, 0, 0, 1, 0, 0, 1, 0, 0, 1, 1, 0, 0, 0, 1,\n",
       "       1, 0, 0, 0, 0, 1, 0, 0, 1, 0, 1, 0, 0, 1, 0, 1, 0, 0, 0, 1, 0, 1,\n",
       "       0, 1, 1, 0, 0, 0, 0, 1, 0, 0, 0, 1, 0, 1, 1, 0, 1, 1, 1, 0, 0, 1,\n",
       "       0, 0, 1, 1, 1, 0, 0, 1, 0, 0, 1, 0, 0, 1, 1, 0, 0, 0, 0, 0, 0, 0,\n",
       "       0, 0, 1, 0], dtype=int64)"
      ]
     },
     "execution_count": 48,
     "metadata": {},
     "output_type": "execute_result"
    }
   ],
   "source": [
    "model_1.predict(X_test)"
   ]
  },
  {
   "cell_type": "markdown",
   "metadata": {},
   "source": [
    "## 1.10 总结&课后任务\n",
    "### 总结\n",
    "<img src=\"./material/总结.png\" width=\"600px\" height=\"600px\">\n",
    "\n",
    "### 课后任务\n",
    "* 复习本节课内容。\n",
    "* 以个人形式，参加一个kaggle或天池的机器学习竞赛项目，新的或以前的项目都可以。\n",
    "* 下节课内容涉及比较多原理知识，好好预习。"
   ]
  }
 ],
 "metadata": {
  "kernelspec": {
   "display_name": "Python 3",
   "language": "python",
   "name": "python3"
  },
  "language_info": {
   "codemirror_mode": {
    "name": "ipython",
    "version": 3
   },
   "file_extension": ".py",
   "mimetype": "text/x-python",
   "name": "python",
   "nbconvert_exporter": "python",
   "pygments_lexer": "ipython3",
   "version": "3.7.1"
  }
 },
 "nbformat": 4,
 "nbformat_minor": 2
}
